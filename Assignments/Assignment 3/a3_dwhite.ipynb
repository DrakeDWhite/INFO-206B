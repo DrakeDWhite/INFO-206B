{
 "cells": [
  {
   "cell_type": "markdown",
   "metadata": {},
   "source": [
    "# INFO206B Fall 2022 Assignment 3\n",
    "\n",
    "Sentiment analysis uses natural language processing, text analysis, and other methods to systematically identify, extract, quantify, and study affective information in many different contexts. In this assignment, you will perform a simple sentiment analysis on different texts, ranging from tweets to tomes. In the process, you will learn about the design, implementation, and performance evaluation of search algorithms and data structures."
   ]
  },
  {
   "cell_type": "markdown",
   "metadata": {},
   "source": [
    "## Part 1. Tweets (5 points)\n",
    "\n",
    "You are given a [list of famous (or infamous) tweets](https://people.ischool.berkeley.edu/~chuang/i206/b3/tweets.txt). from the colored history of Twitter. Your task is to compute the sentiment of each tweet based on the sentiment scores of the words in the tweet. For this part of the assignment, the sentiment of a tweet is simply the sum of the sentiment scores for each word in the tweet.\n",
    "\n",
    "You will use a hand-coded [sentiment lexicon developed by Finn Årup Nielsen](https://github.com/fnielsen/afinn). that contains a list of ~2,400 English words with sentiment scores ranging from -5 (most negative) to 5 (most positive). Your program will read the file [AFINN-111.txt](https://people.ischool.berkeley.edu/~chuang/i206/b3/AFINN-111.txt) into a dictionary data structure. (Note that the file is tab delimited, so you will want to use the `“\\t”` argument for your split method.)\n",
    "\n",
    "For each of the ten tweets, you should split the tweet into its component words, removing any whitespaces and punctuations, and converting the words to lowercase. Then, you look up the sentiment score for each word in the dictionary. If a word is not found, its score is zero. The sentiment score of the tweet is the sum of the scores of the individual words. Print the tweet and its sentiment score."
   ]
  },
  {
   "cell_type": "code",
   "execution_count": 36,
   "metadata": {},
   "outputs": [
    {
     "name": "stdout",
     "output_type": "stream",
     "text": [
      "Tweet 0 : just setting up my twttr\n",
      "Tweet sentiment: 0 \n",
      "\n",
      "Tweet 1 : there's a plane in the hudson. i'm on the ferry going to pick up the people. crazy.\n",
      "Tweet sentiment: 0 \n",
      "\n",
      "Tweet 2 : are you ready to celebrate? well, get ready: we have ice!!!!! yes, ice, *water ice* on mars! woot!!! best day ever!!\n",
      "best 3\n",
      "Tweet sentiment: 3 \n",
      "\n",
      "Tweet 3 : arrested\n",
      "arrested -3\n",
      "Tweet sentiment: -3 \n",
      "\n",
      "Tweet 4 : hi twitters . thank you for a warm welcome. feeling really 21st century .\n",
      "thank 2\n",
      "warm 1\n",
      "feeling 1\n",
      "Tweet sentiment: 4 \n",
      "\n",
      "Tweet 5 : hello twitterverse! we r now live tweeting from the international space station -- the 1st live tweet from space! :) more soon, send your ?s\n",
      "Tweet sentiment: 0 \n",
      "\n",
      "Tweet 6 : ok, what the hell is \"weird twitter\"?\n",
      "hell -4\n",
      "Tweet sentiment: -4 \n",
      "\n",
      "Tweet 7 : please retweet this to spread awareness for retweets.\n",
      "please 1\n",
      "Tweet sentiment: 1 \n",
      "\n",
      "Tweet 8 : if only bradley's arm was longer. best photo ever. #oscars\n",
      "best 3\n",
      "Tweet sentiment: 3 \n",
      "\n",
      "Tweet 9 : admiring my award winning masterpiece -- super stunning roflcopter tweet ftw woohoo!\n",
      "admiring 3\n",
      "award 3\n",
      "winning 4\n",
      "masterpiece 4\n",
      "super 3\n",
      "stunning 4\n",
      "roflcopter 4\n",
      "ftw 3\n",
      "Tweet sentiment: 28 \n",
      "\n"
     ]
    }
   ],
   "source": [
    "# define the function\n",
    "def tweet_sentiment(in_file):\n",
    "    # open the file\n",
    "    lexicon_contents = open(\"AFINN-111.txt\", \"r\")\n",
    "    # turn it into a list\n",
    "    file_lines = lexicon_contents.readlines()\n",
    "\n",
    "    # trace trace trace\n",
    "    #print(file_lines)\n",
    "\n",
    "    # start the dictionary\n",
    "    lex_dict = {}\n",
    "\n",
    "    # strip the lexicon into list of list \n",
    "    for i in range(len(file_lines)):\n",
    "        file_lines[i] = file_lines[i].strip().split(\"\\t\")\n",
    "        # add the keys/values to the dictionary \n",
    "        lex_dict[file_lines[i][0]] = int(file_lines[i][1])\n",
    "\n",
    "    #print(file_lines)\n",
    "    #print(lex_dict)\n",
    "\n",
    "    # close the file\n",
    "    lexicon_contents.close()\n",
    "\n",
    "    ### SENTIMENT DICTIONARY IS MADE\n",
    "\n",
    "    # Now it's time for reading the actual file of tweets\n",
    "    tweet_contents = open(in_file, \"r\")\n",
    "    tweet_lines = tweet_contents.readlines()\n",
    "\n",
    "    # loop over contents\n",
    "    for i in range(len(tweet_lines)):\n",
    "        # strip the newline\n",
    "        tweet_lines[i] = tweet_lines[i].lower().strip()\n",
    "        # print out the tweet\n",
    "        print(\"Tweet\", i, \":\", tweet_lines[i])\n",
    "        # now we strip into component words\n",
    "        tweet_lines[i] = tweet_lines[i].split()\n",
    "        #print(tweet_lines[i])\n",
    "        \n",
    "        #define the sentiment\n",
    "        sentiment_max = 0\n",
    "\n",
    "        # now we need to add up the sentiment of all words\n",
    "        for each in tweet_lines[i]:\n",
    "            if each in lex_dict.keys():\n",
    "                sentiment_max += lex_dict[each]\n",
    "                print(each, lex_dict[each])\n",
    "        print(\"Tweet sentiment:\", sentiment_max, \"\\n\")\n",
    "\n",
    "\n",
    "\n",
    "\n",
    "\n",
    "\n",
    "\n",
    "\n",
    "tweet_sentiment(\"tweets.txt\")"
   ]
  },
  {
   "cell_type": "code",
   "execution_count": null,
   "metadata": {},
   "outputs": [],
   "source": []
  }
 ],
 "metadata": {
  "interpreter": {
   "hash": "8da2674ad6258058d13ee0086267efa2a38eabfca86f71d724f1bc6a8ee69fc3"
  },
  "kernelspec": {
   "display_name": "Python 3.9.12 ('base')",
   "language": "python",
   "name": "python3"
  },
  "language_info": {
   "codemirror_mode": {
    "name": "ipython",
    "version": 3
   },
   "file_extension": ".py",
   "mimetype": "text/x-python",
   "name": "python",
   "nbconvert_exporter": "python",
   "pygments_lexer": "ipython3",
   "version": "3.9.12"
  },
  "orig_nbformat": 4
 },
 "nbformat": 4,
 "nbformat_minor": 2
}
