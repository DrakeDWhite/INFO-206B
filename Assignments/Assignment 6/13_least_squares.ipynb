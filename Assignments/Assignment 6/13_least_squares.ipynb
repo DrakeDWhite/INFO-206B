{
 "cells": [
  {
   "cell_type": "code",
   "execution_count": null,
   "id": "272b9609",
   "metadata": {},
   "outputs": [],
   "source": [
    "import numpy as np\n",
    "import matplotlib.pyplot as plt\n",
    "from numpy.linalg import inv"
   ]
  },
  {
   "cell_type": "code",
   "execution_count": null,
   "id": "78c735ca",
   "metadata": {},
   "outputs": [],
   "source": [
    "'''\n",
    "\n",
    "Given x and y as shown below, determine the slope for the model y = m*x using least-squares estimation.\n",
    "\n",
    "Note that the y-intercept, b is 0 for this model.\n",
    "\n",
    "The algebraic solution of the slope is:\n",
    "\n",
    "    sum_{i=1}^{n} x_i y_i / sum_{i=1}^{n} x_i^2\n",
    "\n",
    "Plot the data points and the estimated line.\n",
    "\n",
    "'''\n",
    "\n",
    "x = np.array([1, 2, 3])\n",
    "y = np.array([1, 2, 4])\n",
    "\n",
    "print(x,y)"
   ]
  },
  {
   "cell_type": "code",
   "execution_count": null,
   "id": "f5198d3a",
   "metadata": {},
   "outputs": [],
   "source": [
    "m = np.sum(x*y) / np.sum(x*x)\n",
    "print('m = %.2f' % m)"
   ]
  },
  {
   "cell_type": "code",
   "execution_count": null,
   "id": "6ebdff99",
   "metadata": {},
   "outputs": [],
   "source": [
    "# plot data and least-squares fit\n",
    "\n",
    "xe = np.arange(0,5)\n",
    "ye = m*xe\n",
    "\n",
    "plt.plot(x,y,'bo')\n",
    "plt.plot(xe,ye,'r:')\n",
    "plt.show()"
   ]
  },
  {
   "cell_type": "code",
   "execution_count": null,
   "id": "258ae655",
   "metadata": {},
   "outputs": [],
   "source": [
    "'''\n",
    "\n",
    "Now determine the values of m and b for the model y = m*x + b using least-squares estimation.\n",
    "\n",
    "The algebraic solution of the slope m is:\n",
    "\n",
    "    (sum_{i=1}^{n} x_i y_i - (sum_{i=1}^{n} x_i * sum_{i=1}^{n} y_i)/n) / (sum_{i=1}^{n} x_i^2  - (sum_{i=1}^{n} x_i * sum_{i=1}^{n} x_i)/n)\n",
    "\n",
    "The algebraic solution of the y-intercept b is:\n",
    "\n",
    "    (sum_{i=1}^{n} y_i - m*sum_{i=1}^{n} x_i)/n\n",
    "\n",
    "Plot the data points and the estimated line.\n",
    "\n",
    "'''\n",
    "\n",
    "x = np.array([1, 2, 3])\n",
    "y = np.array([1, 2, 4])\n",
    "\n",
    "print(x,y)"
   ]
  },
  {
   "cell_type": "code",
   "execution_count": null,
   "id": "1ecd1671",
   "metadata": {},
   "outputs": [],
   "source": [
    "n = len(x)\n",
    "m = ( np.sum(x*y) - np.sum(y)*np.sum(x)/n ) / ( np.sum(x*x) - np.sum(x)*np.sum(x)/n )\n",
    "b = ( np.sum(y) - m*np.sum(x) )/n\n",
    "print('m = %.2f' % m, 'b = %.2f' % b)"
   ]
  },
  {
   "cell_type": "code",
   "execution_count": null,
   "id": "a76c81cd",
   "metadata": {},
   "outputs": [],
   "source": [
    "# plot data and least-squares fit\n",
    "\n",
    "xe = np.arange(0,5)\n",
    "ye = m*xe + b\n",
    "\n",
    "plt.plot(x,y,'bo')\n",
    "plt.plot(xe,ye,'r:')\n",
    "plt.show()"
   ]
  },
  {
   "cell_type": "code",
   "execution_count": null,
   "id": "4a4e1a96",
   "metadata": {},
   "outputs": [],
   "source": [
    "'''\n",
    "\n",
    "Repeat the least squares estimation for the model y = m*x + b using matrix representations of x and y\n",
    "\n",
    "The linear algebraic solution for vector u is:\n",
    "\n",
    "    (X^T * X)^-1 * (X^T * y)\n",
    "\n",
    "'''\n",
    "\n",
    "# your least-squares estimation code here (2 lines)\n",
    "X = \n",
    "u = \n",
    "\n",
    "print('m = %.2f' % u[0], 'b = %.2f' % u[1])"
   ]
  },
  {
   "cell_type": "code",
   "execution_count": null,
   "id": "c2b79661",
   "metadata": {},
   "outputs": [],
   "source": [
    "# plot data and least-squares fit\n",
    "\n",
    "xe = np.arange(0,5)\n",
    "ye = u[0]*xe + u[1]\n",
    "plt.plot(x,y,'bo')\n",
    "plt.plot(xe,ye,'r:')\n",
    "plt.show()"
   ]
  },
  {
   "cell_type": "code",
   "execution_count": null,
   "id": "3f4da11b",
   "metadata": {},
   "outputs": [],
   "source": [
    "# Sanity check: compare results with built-in functions\n",
    "\n",
    "m, b = np.polyfit(x, y, 1)\n",
    "print('m = %.2f' % m, 'b = %.2f' % b )"
   ]
  },
  {
   "cell_type": "code",
   "execution_count": null,
   "id": "6e74c0f7",
   "metadata": {},
   "outputs": [],
   "source": [
    "m, b = np.linalg.lstsq(X, y, rcond=None)[0]\n",
    "print('m = %.2f' % m, 'b = %.2f' % b )"
   ]
  },
  {
   "cell_type": "code",
   "execution_count": null,
   "id": "8e6c9c32",
   "metadata": {},
   "outputs": [],
   "source": [
    "# example from lecture video: fitting to a second-order polynomial y = ax^2 + bx + c\n",
    "\n",
    "# generate \"noisy\" data\n",
    "n = 20 # number of points\n",
    "x = np.random.randn(n)\n",
    "y = np.random.randn(1)*x*x + np.random.randn(1)*x + np.random.randn(1) # second-order polynomial\n",
    "y = y + 0.1*np.random.randn(n) # add noise\n",
    "\n",
    "# your least-squares estimation code here (2 lines)\n",
    "X = np.stack( (np.square(x), x, np.ones(n)), axis=1)\n",
    "u = inv(np.transpose(X)@X)@np.transpose(X)@y\n",
    "\n",
    "# plot data and least-squares fit\n",
    "xp = np.arange(-2,2,0.1)\n",
    "yp = u[0]*xp*xp + u[1]*xp + u[2]\n",
    "plt.plot(x,y,'bo') # original data\n",
    "plt.plot( xp, yp, 'r-' ) # second-order polynomial fit\n",
    "plt.show()\n",
    "print(u)"
   ]
  },
  {
   "cell_type": "code",
   "execution_count": null,
   "id": "5eab4647",
   "metadata": {},
   "outputs": [],
   "source": [
    "# Assignment 6 data\n",
    "\n",
    "import csv\n",
    "\n",
    "year = []\n",
    "anomaly = []\n",
    "\n",
    "with open('B6data.csv') as csvDataFile:\n",
    "    csvReader = csv.reader(csvDataFile)\n",
    "    for row in csvReader:\n",
    "        year.append(int(row[0]))\n",
    "        anomaly.append(float(row[1]))\n",
    "\n",
    "plt.figure(figsize=(1280/80,1024/80))\n",
    "plt.scatter(year, anomaly, s=100, facecolors='none', edgecolors='r')\n",
    "plt.show()"
   ]
  }
 ],
 "metadata": {
  "kernelspec": {
   "display_name": "Python 3 (ipykernel)",
   "language": "python",
   "name": "python3"
  },
  "language_info": {
   "codemirror_mode": {
    "name": "ipython",
    "version": 3
   },
   "file_extension": ".py",
   "mimetype": "text/x-python",
   "name": "python",
   "nbconvert_exporter": "python",
   "pygments_lexer": "ipython3",
   "version": "3.9.12"
  }
 },
 "nbformat": 4,
 "nbformat_minor": 5
}
