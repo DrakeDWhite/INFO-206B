{
 "cells": [
  {
   "cell_type": "markdown",
   "metadata": {},
   "source": [
    "## Part 2. (8 points) \n",
    "\n",
    "In this part of the assignment, we will perform least-squares regression on historical global temperature data to estimate when we will reach 1.5 and 2 degrees Celsius thresholds if current trends continue.\n",
    "\n",
    "Download the data file in CSV format (source: NASA) of global surface temperature anomaly from 1880 to 2021. The anomaly is quantified relative to the mean temperature in the 1951-1980 range. (Note: The IPCC uses an alternate reference period of 1850-1900 for its baseline pre-industrial temperature, which results in a baseline that is about 0.2℃ cooler.)"
   ]
  },
  {
   "cell_type": "markdown",
   "metadata": {},
   "source": [
    "### (a) (3 points) \n",
    "\n",
    "Without using any existing library functions or pre-packaged code for least-squares regression, fit the data to a polynomial of degree 1 (i.e., a line, `y = ax + b` ). You must build the linear system and solve directly for the least-squares estimate of the parameters `a` and `b`. Plot the regression line and the raw data from 1880 until 2100. "
   ]
  },
  {
   "cell_type": "code",
   "execution_count": null,
   "metadata": {},
   "outputs": [],
   "source": [
    "# plotting data first \n",
    "\n",
    "import csv\n",
    "import numpy as np\n",
    "import matplotlib.pyplot as plt\n",
    "from numpy.linalg import inv\n",
    "\n",
    "year = []\n",
    "anomaly = []\n",
    "\n",
    "with open('B6data.csv') as csvDataFile:\n",
    "    csvReader = csv.reader(csvDataFile)\n",
    "    for row in csvReader:\n",
    "        year.append(int(row[0]))\n",
    "        anomaly.append(float(row[1]))\n",
    "\n",
    "plt.figure(figsize=(1280/80,1024/80))\n",
    "plt.scatter(year, anomaly, s=100, facecolors='none', edgecolors='r')\n",
    "plt.show()"
   ]
  },
  {
   "cell_type": "code",
   "execution_count": null,
   "metadata": {},
   "outputs": [],
   "source": []
  }
 ],
 "metadata": {
  "kernelspec": {
   "display_name": "Python 3.9.12 ('base')",
   "language": "python",
   "name": "python3"
  },
  "language_info": {
   "codemirror_mode": {
    "name": "ipython",
    "version": 3
   },
   "file_extension": ".py",
   "mimetype": "text/x-python",
   "name": "python",
   "nbconvert_exporter": "python",
   "pygments_lexer": "ipython3",
   "version": "3.9.12"
  },
  "orig_nbformat": 4,
  "vscode": {
   "interpreter": {
    "hash": "6429919fe5eee10fa3db4376c75d0431aac4ee64633f3fde6de3e71a7b7c5c41"
   }
  }
 },
 "nbformat": 4,
 "nbformat_minor": 2
}
