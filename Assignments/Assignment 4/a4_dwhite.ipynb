{
 "cells": [
  {
   "cell_type": "code",
   "execution_count": 94,
   "metadata": {},
   "outputs": [
    {
     "name": "stdout",
     "output_type": "stream",
     "text": [
      "['ABBBCC', 'B', 'AB']\n"
     ]
    }
   ],
   "source": [
    "import re\n",
    "\n",
    "sentence = \"AAAAAA ABBBCC B AACCC AAB\"\n",
    "\n",
    "pattern = re.compile(r'A?B+C*')\n",
    "print(pattern.findall(sentence))"
   ]
  },
  {
   "cell_type": "code",
   "execution_count": 95,
   "metadata": {},
   "outputs": [
    {
     "name": "stdout",
     "output_type": "stream",
     "text": [
      "['ABCDCDCDCAB', 'AB', 'ABAB', 'ABCCCCAB']\n"
     ]
    }
   ],
   "source": [
    "sentence = \"ABCDCDCDCAB AB ABAB ABBBA ABCCCCAB ABABABABABB ABABAB\"\n",
    "\n",
    "pattern = re.compile(r\"\\bAB[^A]*[^B]*AB\\b|\\bAB\\b\")\n",
    "print(pattern.findall(sentence))"
   ]
  },
  {
   "cell_type": "markdown",
   "metadata": {},
   "source": [
    "### Part 2. (8 points) Web Scraping Restaurant Listings\n",
    "\n",
    "You have been tasked with choosing a good Italian restaurant in the city at which to eat. You are provided with a (sanitized) Yelp webpage of restaurant listings and it is your job to write code that will go through and parse this list using Python regular expressions.\n",
    "\n",
    "You should construct a different regular expression for each of the following:\n",
    "\n",
    "- All of the restaurant names\n",
    "- The neighborhood for each restaurant (e.g., SOMA, Mission, Marina/Cow Hollow)\n",
    "- The ‘star rating’ for each restaurant (e.g., ’3.5′ or ’4′) \n",
    "- The phone number for each restaurant \n",
    "\n",
    "You are to use Python's `re` package for this assignment. There are HTML/XML parser packages such as Beautiful Soup out there. You are not to use them for this assignment."
   ]
  },
  {
   "cell_type": "markdown",
   "metadata": {},
   "source": [
    "Sample Output (print out the numbers to prove you captured all 40)\n",
    "\n",
    "Restaurant Names (1-40)\n",
    "\n",
    "- Capannina\n",
    "- Delfina\n",
    "- ...\n",
    "\n",
    "Restaurant Neighborhoods (1-40)\n",
    "\n",
    "- Marina/Cow Hollow\n",
    "- Mission\n",
    "- ...\n",
    "\n",
    "Restaurant Star Ratings (1-40)\n",
    "\n",
    "- 4\n",
    "- 4\n",
    "- ...\n",
    "\n",
    "\n",
    "Restaurant Phone Numbers (1-40)\n",
    "\n",
    "- (415) 409-8001\n",
    "- (415) 552-4055\n",
    "- ..."
   ]
  },
  {
   "cell_type": "code",
   "execution_count": 96,
   "metadata": {},
   "outputs": [
    {
     "name": "stdout",
     "output_type": "stream",
     "text": [
      "Restaurant Names (1-40)\n",
      "\n",
      "1. Capannina\n",
      "2. Delfina\n",
      "3. Pizzeria\n",
      "4. Spuntino di Ottimista\n",
      "5. Ristorante Parma\n",
      "6. La Briciola\n",
      "7. Valencia Pizza & Pasta\n",
      "8. 54 Mint - Vineria Ristorante\n",
      "9. Serrano's Pizza\n",
      "10. Pazzia Restaurant & Pizzeria\n",
      "11. Pasta Paradiso\n",
      "12. Beretta\n",
      "13. Caffe Terzetto\n",
      "14. Rose's Cafe\n",
      "15. Specchio\n",
      "16. Mondo Cafe\n",
      "17. Bar Bambino Cafe and Wine Bar\n",
      "18. Pane E Vino\n",
      "19. La Provence\n",
      "20. A2/Rustico Cafe\n",
      "21. Il Cantuccio\n",
      "22. South Beach Cafe\n",
      "23. E'angelo\n",
      "24. A 16\n",
      "25. Rocco's Cafe\n",
      "26. Local Kitchen & Wine Merchant\n",
      "27. Ristorante Umbria\n",
      "28. flour + water\n",
      "29. Firewood At Metreon\n",
      "30. Palomino\n",
      "31. Buono\n",
      "32. Farina Focaccia & Cucina Italiana\n",
      "33. Pasta Pomodoro\n",
      "34. Emporio Rulli Gran Caffe\n",
      "35. Bechelli's Flower Market Cafe\n",
      "36. Ducca\n",
      "37. Luisa's Italian Restaurant\n",
      "38. Amici's East Coast Pizzeria\n",
      "39. Pasta Moto\n",
      "40. Zuppa\n"
     ]
    }
   ],
   "source": [
    "import re\n",
    "\n",
    "#open file\n",
    "file_contents = open(\"yelp_listings.html\", \"r\")\n",
    "file_innards = file_contents.read()\n",
    "file_contents.close()\n",
    "\n",
    "#print(file_innards)\n",
    "\n",
    "# regex for restaurant titles = bizTitleLink0\">1. etc\n",
    "# form that pattern   \n",
    "namePattern = re.compile(r'bizTitleLink\\d+\">\\d+\\. \\t(.*\\b)')\n",
    "\n",
    "# save it as a list\n",
    "restaurantNames = namePattern.findall(file_innards)\n",
    "\n",
    "#printing\n",
    "print(\"Restaurant Names (1-40)\\n\")\n",
    "\n",
    "# fix the special characters and print each\n",
    "for i in range(len(restaurantNames)):\n",
    "    restaurantNames[i] = restaurantNames[i].replace('&amp;', '&')\n",
    "    print(str(i+1) + \". \" + restaurantNames[i])\n",
    "\n",
    "\n"
   ]
  },
  {
   "cell_type": "code",
   "execution_count": 98,
   "metadata": {},
   "outputs": [
    {
     "name": "stdout",
     "output_type": "stream",
     "text": [
      "Restaurant Neighborhoods (1-40):\n",
      "\n",
      "1. Marina/Cow Hollow\n",
      "2. Mission\n",
      "3. Mission\n",
      "4. Marina/Cow Hollow\n",
      "5. Marina/Cow Hollow\n",
      "6. SOMA\n",
      "7. Mission\n",
      "8. SOMA\n",
      "9. Mission\n",
      "10. SOMA\n",
      "11. SOMA\n",
      "12. Mission\n",
      "13. SOMA\n",
      "14. Marina/Cow Hollow\n",
      "15. Mission\n",
      "16. SOMA\n",
      "17. Mission\n",
      "18. Marina/Cow Hollow\n",
      "19. Mission\n",
      "20. SOMA\n",
      "21. Mission\n",
      "22. SOMA\n",
      "23. Marina/Cow Hollow\n",
      "24. Marina/Cow Hollow\n",
      "25. SOMA\n",
      "26. SOMA\n",
      "27. SOMA\n",
      "28. Mission\n",
      "29. SOMA\n",
      "30. SOMA\n",
      "31. SOMA\n",
      "32. Mission\n",
      "33. Marina/Cow Hollow\n",
      "34. Marina/Cow Hollow\n",
      "35. SOMA\n",
      "36. SOMA\n",
      "37. Marina/Cow Hollow\n",
      "38. SOMA\n",
      "39. SOMA\n",
      "40. SOMA\n"
     ]
    }
   ],
   "source": [
    "#get the neighborhoods\n",
    "neighPattern = re.compile('Neighborhoods?: <a href=.*>(.*)</a>')\n",
    "#make it a list\n",
    "neighborhoods = neighPattern.findall(file_innards)\n",
    "\n",
    "\n",
    "# print them out\n",
    "print(\"Restaurant Neighborhoods (1-40):\\n\")\n",
    "for i in range(len(neighborhoods)):\n",
    "    print(str(i+1) + \". \" + neighborhoods[i])"
   ]
  },
  {
   "cell_type": "code",
   "execution_count": null,
   "metadata": {},
   "outputs": [],
   "source": []
  }
 ],
 "metadata": {
  "kernelspec": {
   "display_name": "Python 3.10.8 64-bit (microsoft store)",
   "language": "python",
   "name": "python3"
  },
  "language_info": {
   "codemirror_mode": {
    "name": "ipython",
    "version": 3
   },
   "file_extension": ".py",
   "mimetype": "text/x-python",
   "name": "python",
   "nbconvert_exporter": "python",
   "pygments_lexer": "ipython3",
   "version": "3.10.8"
  },
  "orig_nbformat": 4,
  "vscode": {
   "interpreter": {
    "hash": "4c98c6d3aee2838e64c8d8685d0345539a7ca4b69b8ca7454491c28cd4729e11"
   }
  }
 },
 "nbformat": 4,
 "nbformat_minor": 2
}
