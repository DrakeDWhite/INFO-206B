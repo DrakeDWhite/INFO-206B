{
 "cells": [
  {
   "cell_type": "code",
   "execution_count": 2,
   "metadata": {},
   "outputs": [
    {
     "name": "stdout",
     "output_type": "stream",
     "text": [
      "['ABBBCC', 'B', 'AB']\n"
     ]
    }
   ],
   "source": [
    "import re\n",
    "\n",
    "sentence = \"AAAAAA ABBBCC B AACCC AAB\"\n",
    "\n",
    "pattern = re.compile(r'A?B+C*')\n",
    "print(pattern.findall(sentence))"
   ]
  },
  {
   "cell_type": "code",
   "execution_count": 38,
   "metadata": {},
   "outputs": [
    {
     "name": "stdout",
     "output_type": "stream",
     "text": [
      "['ABCDCDCDCAB', 'AB', 'ABAB', 'ABCCCCAB']\n"
     ]
    }
   ],
   "source": [
    "sentence = \"ABCDCDCDCAB AB ABAB ABBBA ABCCCCAB ABABABABABB ABABAB\"\n",
    "\n",
    "pattern = re.compile(r\"\\bAB[^A]*[^B]*AB\\b|\\bAB\\b\")\n",
    "print(pattern.findall(sentence))"
   ]
  },
  {
   "cell_type": "code",
   "execution_count": null,
   "metadata": {},
   "outputs": [],
   "source": []
  }
 ],
 "metadata": {
  "kernelspec": {
   "display_name": "Python 3.10.8 64-bit (microsoft store)",
   "language": "python",
   "name": "python3"
  },
  "language_info": {
   "codemirror_mode": {
    "name": "ipython",
    "version": 3
   },
   "file_extension": ".py",
   "mimetype": "text/x-python",
   "name": "python",
   "nbconvert_exporter": "python",
   "pygments_lexer": "ipython3",
   "version": "3.10.8"
  },
  "orig_nbformat": 4,
  "vscode": {
   "interpreter": {
    "hash": "4c98c6d3aee2838e64c8d8685d0345539a7ca4b69b8ca7454491c28cd4729e11"
   }
  }
 },
 "nbformat": 4,
 "nbformat_minor": 2
}
