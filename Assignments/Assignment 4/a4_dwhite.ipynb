{
 "cells": [
  {
   "cell_type": "code",
   "execution_count": 25,
   "metadata": {},
   "outputs": [
    {
     "name": "stdout",
     "output_type": "stream",
     "text": [
      "['ABBBCC', 'B', 'AB']\n"
     ]
    }
   ],
   "source": [
    "import re\n",
    "\n",
    "sentence = \"AAAAAA ABBBCC B AACCC AAB\"\n",
    "\n",
    "pattern = re.compile(r'A?B+C*')\n",
    "print(pattern.findall(sentence))"
   ]
  },
  {
   "cell_type": "code",
   "execution_count": 28,
   "metadata": {},
   "outputs": [
    {
     "name": "stdout",
     "output_type": "stream",
     "text": [
      "['ABABAB', 'ABAB', 'ABAB']\n"
     ]
    }
   ],
   "source": [
    "sentence = \"ABABAB AB ABAB ABBBA ABAB ABABABABABB\"\n",
    "\n",
    "pattern = re.compile(r\"\\bAB[AB]*AB\\b\")\n",
    "print(pattern.findall(sentence))"
   ]
  },
  {
   "cell_type": "code",
   "execution_count": null,
   "metadata": {},
   "outputs": [],
   "source": []
  }
 ],
 "metadata": {
  "interpreter": {
   "hash": "8da2674ad6258058d13ee0086267efa2a38eabfca86f71d724f1bc6a8ee69fc3"
  },
  "kernelspec": {
   "display_name": "Python 3.9.12 ('base')",
   "language": "python",
   "name": "python3"
  },
  "language_info": {
   "codemirror_mode": {
    "name": "ipython",
    "version": 3
   },
   "file_extension": ".py",
   "mimetype": "text/x-python",
   "name": "python",
   "nbconvert_exporter": "python",
   "pygments_lexer": "ipython3",
   "version": "3.9.12"
  },
  "orig_nbformat": 4
 },
 "nbformat": 4,
 "nbformat_minor": 2
}
