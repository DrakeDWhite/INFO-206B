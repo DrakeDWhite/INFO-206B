{
 "cells": [
  {
   "cell_type": "code",
   "execution_count": 94,
   "metadata": {},
   "outputs": [
    {
     "name": "stdout",
     "output_type": "stream",
     "text": [
      "['ABBBCC', 'B', 'AB']\n"
     ]
    }
   ],
   "source": [
    "import re\n",
    "\n",
    "sentence = \"AAAAAA ABBBCC B AACCC AAB\"\n",
    "\n",
    "pattern = re.compile(r'A?B+C*')\n",
    "print(pattern.findall(sentence))"
   ]
  },
  {
   "cell_type": "code",
   "execution_count": 95,
   "metadata": {},
   "outputs": [
    {
     "name": "stdout",
     "output_type": "stream",
     "text": [
      "['ABCDCDCDCAB', 'AB', 'ABAB', 'ABCCCCAB']\n"
     ]
    }
   ],
   "source": [
    "sentence = \"ABCDCDCDCAB AB ABAB ABBBA ABCCCCAB ABABABABABB ABABAB\"\n",
    "\n",
    "pattern = re.compile(r\"\\bAB[^A]*[^B]*AB\\b|\\bAB\\b\")\n",
    "print(pattern.findall(sentence))"
   ]
  },
  {
   "cell_type": "markdown",
   "metadata": {},
   "source": [
    "### Part 2. (8 points) Web Scraping Restaurant Listings\n",
    "\n",
    "You have been tasked with choosing a good Italian restaurant in the city at which to eat. You are provided with a (sanitized) Yelp webpage of restaurant listings and it is your job to write code that will go through and parse this list using Python regular expressions.\n",
    "\n",
    "You should construct a different regular expression for each of the following:\n",
    "\n",
    "- All of the restaurant names\n",
    "- The neighborhood for each restaurant (e.g., SOMA, Mission, Marina/Cow Hollow)\n",
    "- The ‘star rating’ for each restaurant (e.g., ’3.5′ or ’4′) \n",
    "- The phone number for each restaurant \n",
    "\n",
    "You are to use Python's `re` package for this assignment. There are HTML/XML parser packages such as Beautiful Soup out there. You are not to use them for this assignment."
   ]
  },
  {
   "cell_type": "markdown",
   "metadata": {},
   "source": [
    "Sample Output (print out the numbers to prove you captured all 40)\n",
    "\n",
    "Restaurant Names (1-40)\n",
    "\n",
    "- Capannina\n",
    "- Delfina\n",
    "- ...\n",
    "\n",
    "Restaurant Neighborhoods (1-40)\n",
    "\n",
    "- Marina/Cow Hollow\n",
    "- Mission\n",
    "- ...\n",
    "\n",
    "Restaurant Star Ratings (1-40)\n",
    "\n",
    "- 4\n",
    "- 4\n",
    "- ...\n",
    "\n",
    "\n",
    "Restaurant Phone Numbers (1-40)\n",
    "\n",
    "- (415) 409-8001\n",
    "- (415) 552-4055\n",
    "- ..."
   ]
  },
  {
   "cell_type": "code",
   "execution_count": 96,
   "metadata": {},
   "outputs": [
    {
     "name": "stdout",
     "output_type": "stream",
     "text": [
      "Restaurant Names (1-40)\n",
      "\n",
      "1. Capannina\n",
      "2. Delfina\n",
      "3. Pizzeria\n",
      "4. Spuntino di Ottimista\n",
      "5. Ristorante Parma\n",
      "6. La Briciola\n",
      "7. Valencia Pizza & Pasta\n",
      "8. 54 Mint - Vineria Ristorante\n",
      "9. Serrano's Pizza\n",
      "10. Pazzia Restaurant & Pizzeria\n",
      "11. Pasta Paradiso\n",
      "12. Beretta\n",
      "13. Caffe Terzetto\n",
      "14. Rose's Cafe\n",
      "15. Specchio\n",
      "16. Mondo Cafe\n",
      "17. Bar Bambino Cafe and Wine Bar\n",
      "18. Pane E Vino\n",
      "19. La Provence\n",
      "20. A2/Rustico Cafe\n",
      "21. Il Cantuccio\n",
      "22. South Beach Cafe\n",
      "23. E'angelo\n",
      "24. A 16\n",
      "25. Rocco's Cafe\n",
      "26. Local Kitchen & Wine Merchant\n",
      "27. Ristorante Umbria\n",
      "28. flour + water\n",
      "29. Firewood At Metreon\n",
      "30. Palomino\n",
      "31. Buono\n",
      "32. Farina Focaccia & Cucina Italiana\n",
      "33. Pasta Pomodoro\n",
      "34. Emporio Rulli Gran Caffe\n",
      "35. Bechelli's Flower Market Cafe\n",
      "36. Ducca\n",
      "37. Luisa's Italian Restaurant\n",
      "38. Amici's East Coast Pizzeria\n",
      "39. Pasta Moto\n",
      "40. Zuppa\n"
     ]
    }
   ],
   "source": [
    "import re\n",
    "\n",
    "#open file\n",
    "file_contents = open(\"yelp_listings.html\", \"r\")\n",
    "file_innards = file_contents.read()\n",
    "file_contents.close()\n",
    "\n",
    "#print(file_innards)\n",
    "\n",
    "# regex for restaurant titles = bizTitleLink0\">1. etc\n",
    "# form that pattern   \n",
    "namePattern = re.compile(r'bizTitleLink\\d+\">\\d+\\. \\t(.*\\b)')\n",
    "\n",
    "# save it as a list\n",
    "restaurantNames = namePattern.findall(file_innards)\n",
    "\n",
    "#printing\n",
    "print(\"Restaurant Names (1-40)\\n\")\n",
    "\n",
    "# fix the special characters and print each\n",
    "for i in range(len(restaurantNames)):\n",
    "    restaurantNames[i] = restaurantNames[i].replace('&amp;', '&')\n",
    "    print(str(i+1) + \". \" + restaurantNames[i])\n",
    "\n",
    "\n"
   ]
  },
  {
   "cell_type": "code",
   "execution_count": 98,
   "metadata": {},
   "outputs": [
    {
     "name": "stdout",
     "output_type": "stream",
     "text": [
      "Restaurant Neighborhoods (1-40):\n",
      "\n",
      "1. Marina/Cow Hollow\n",
      "2. Mission\n",
      "3. Mission\n",
      "4. Marina/Cow Hollow\n",
      "5. Marina/Cow Hollow\n",
      "6. SOMA\n",
      "7. Mission\n",
      "8. SOMA\n",
      "9. Mission\n",
      "10. SOMA\n",
      "11. SOMA\n",
      "12. Mission\n",
      "13. SOMA\n",
      "14. Marina/Cow Hollow\n",
      "15. Mission\n",
      "16. SOMA\n",
      "17. Mission\n",
      "18. Marina/Cow Hollow\n",
      "19. Mission\n",
      "20. SOMA\n",
      "21. Mission\n",
      "22. SOMA\n",
      "23. Marina/Cow Hollow\n",
      "24. Marina/Cow Hollow\n",
      "25. SOMA\n",
      "26. SOMA\n",
      "27. SOMA\n",
      "28. Mission\n",
      "29. SOMA\n",
      "30. SOMA\n",
      "31. SOMA\n",
      "32. Mission\n",
      "33. Marina/Cow Hollow\n",
      "34. Marina/Cow Hollow\n",
      "35. SOMA\n",
      "36. SOMA\n",
      "37. Marina/Cow Hollow\n",
      "38. SOMA\n",
      "39. SOMA\n",
      "40. SOMA\n"
     ]
    }
   ],
   "source": [
    "#get the neighborhoods\n",
    "neighPattern = re.compile('Neighborhoods?: <a href=.*>(.*)</a>')\n",
    "#make it a list\n",
    "neighborhoods = neighPattern.findall(file_innards)\n",
    "\n",
    "\n",
    "# print them out\n",
    "print(\"Restaurant Neighborhoods (1-40):\\n\")\n",
    "for i in range(len(neighborhoods)):\n",
    "    print(str(i+1) + \". \" + neighborhoods[i])"
   ]
  },
  {
   "cell_type": "code",
   "execution_count": 103,
   "metadata": {},
   "outputs": [
    {
     "name": "stdout",
     "output_type": "stream",
     "text": [
      "Restaurant Star Ratings (1-40):\n",
      "\n",
      "1. 4\n",
      "2. 4\n",
      "3. 4\n",
      "4. 4.5\n",
      "5. 4\n",
      "6. 4.5\n",
      "7. 4\n",
      "8. 4\n",
      "9. 4\n",
      "10. 4\n",
      "11. 4\n",
      "12. 4\n",
      "13. 4\n",
      "14. 4\n",
      "15. 4\n",
      "16. 4\n",
      "17. 3.5\n",
      "18. 4\n",
      "19. 3.5\n",
      "20. 4\n",
      "21. 3.5\n",
      "22. 3.5\n",
      "23. 3.5\n",
      "24. 3.5\n",
      "25. 3.5\n",
      "26. 3.5\n",
      "27. 3.5\n",
      "28. 3.5\n",
      "29. 3.5\n",
      "30. 3.5\n",
      "31. 3.5\n",
      "32. 3.5\n",
      "33. 3.5\n",
      "34. 3.5\n",
      "35. 3.5\n",
      "36. 3\n",
      "37. 3\n",
      "38. 3\n",
      "39. 3\n",
      "40. 3\n"
     ]
    }
   ],
   "source": [
    "#get the ratings\n",
    "starPattern = re.compile('<div class=\"rating\">.*alt=\"(.*?) star rating\"')\n",
    "#make it a list\n",
    "stars = starPattern.findall(file_innards)\n",
    "\n",
    "\n",
    "# print them out\n",
    "print(\"Restaurant Star Ratings (1-40):\\n\")\n",
    "for i in range(len(stars)):\n",
    "    print(str(i+1) + \". \" + stars[i])"
   ]
  },
  {
   "cell_type": "code",
   "execution_count": 114,
   "metadata": {},
   "outputs": [
    {
     "name": "stdout",
     "output_type": "stream",
     "text": [
      "['(415) 409-8001', '(415) 552-4055', '(415) 701-7492', '(415) 931-6410', '(415) 567-0500', '(415) 512-0300', '(415) 642-1882', '(415) 543-5100', '(415) 695-1615', '(415) 512-1693', '(415) 227-1616', '(415) 695-1199', '(415) 503-1854', '(415) 775-2200', '(415) 956-5528', '(415) 882-1682', '(415) 701-8466', '(415) 441-2111', '(415) 643-4333', '(415) 252-0180', '(415) 861-3899', '(415) 974-1115', '(415) 567-6164', '(415) 771-2216', '(415) 554-0522', '(415) 777-4200', '(415) 546-6985', '(415) 826-7000', '(415) 369-6199', '(415) 512-7400', '(415) 243-0446', '(415) 565-0360', '(415) 771-7900', '(415) 923-6464', '(415) 495-7162', '(415) 977-0271', '(415) 563-4043', '(415) 546-6666', '(415) 546-6686', '(415) 777-5900']\n",
      "Restaurant Phone Numbers (1-40):\n",
      "\n",
      "1. (415) 409-8001\n",
      "2. (415) 552-4055\n",
      "3. (415) 701-7492\n",
      "4. (415) 931-6410\n",
      "5. (415) 567-0500\n",
      "6. (415) 512-0300\n",
      "7. (415) 642-1882\n",
      "8. (415) 543-5100\n",
      "9. (415) 695-1615\n",
      "10. (415) 512-1693\n",
      "11. (415) 227-1616\n",
      "12. (415) 695-1199\n",
      "13. (415) 503-1854\n",
      "14. (415) 775-2200\n",
      "15. (415) 956-5528\n",
      "16. (415) 882-1682\n",
      "17. (415) 701-8466\n",
      "18. (415) 441-2111\n",
      "19. (415) 643-4333\n",
      "20. (415) 252-0180\n",
      "21. (415) 861-3899\n",
      "22. (415) 974-1115\n",
      "23. (415) 567-6164\n",
      "24. (415) 771-2216\n",
      "25. (415) 554-0522\n",
      "26. (415) 777-4200\n",
      "27. (415) 546-6985\n",
      "28. (415) 826-7000\n",
      "29. (415) 369-6199\n",
      "30. (415) 512-7400\n",
      "31. (415) 243-0446\n",
      "32. (415) 565-0360\n",
      "33. (415) 771-7900\n",
      "34. (415) 923-6464\n",
      "35. (415) 495-7162\n",
      "36. (415) 977-0271\n",
      "37. (415) 563-4043\n",
      "38. (415) 546-6666\n",
      "39. (415) 546-6686\n",
      "40. (415) 777-5900\n"
     ]
    }
   ],
   "source": [
    "#get the phone numbers\n",
    "phonePattern = re.compile('<div class=\"phone\">\\n\\t*(.*?)\\n')\n",
    "\n",
    "#make it a list\n",
    "phoneNumbers = phonePattern.findall(file_innards)\n",
    "print(phoneNumbers)\n",
    "\n",
    "\n",
    "# print them out\n",
    "print(\"Restaurant Phone Numbers (1-40):\\n\")\n",
    "for i in range(len(phoneNumbers)):\n",
    "    print(str(i+1) + \". \" + phoneNumbers[i])"
   ]
  },
  {
   "cell_type": "code",
   "execution_count": null,
   "metadata": {},
   "outputs": [],
   "source": []
  }
 ],
 "metadata": {
  "kernelspec": {
   "display_name": "Python 3.10.8 64-bit (microsoft store)",
   "language": "python",
   "name": "python3"
  },
  "language_info": {
   "codemirror_mode": {
    "name": "ipython",
    "version": 3
   },
   "file_extension": ".py",
   "mimetype": "text/x-python",
   "name": "python",
   "nbconvert_exporter": "python",
   "pygments_lexer": "ipython3",
   "version": "3.10.8"
  },
  "orig_nbformat": 4,
  "vscode": {
   "interpreter": {
    "hash": "4c98c6d3aee2838e64c8d8685d0345539a7ca4b69b8ca7454491c28cd4729e11"
   }
  }
 },
 "nbformat": 4,
 "nbformat_minor": 2
}
