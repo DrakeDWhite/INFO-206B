{
 "cells": [
  {
   "cell_type": "markdown",
   "metadata": {},
   "source": [
    "# Assignment 1\n",
    "\n",
    "For this assignment, you will read in a text file containing information about cities in the world, store the information about each city in its own object within a list, sort the list according to different attributes, write the results out to a file, and display part of the output file in a visualization on a world map. "
   ]
  },
  {
   "cell_type": "markdown",
   "metadata": {},
   "source": [
    "### Part 1\n",
    "(3 points) Define a `City` class. Each `City` object will need instance variables to store the following information:\n",
    "- The city's country code (a two-letter string)\n",
    "- The city's name (a string)\n",
    "- The city's region (a two-character string)\n",
    "- The city's population (an int)\n",
    "- The city's latitude (a float)\n",
    "- The city's longitude (a float)\n",
    " \n",
    "\n",
    "You will need five methods in the `City` class. The `__init__` method does the usual: it takes six parameters (plus self) and stores each in the appropriate instance variable. The `__str__` method returns a string consisting of the city's name, population, latitude, and longitude, separated by commas and with no spaces around the commas. For example, here's the string that `__str__` should return for a town in California (notice that the country code and region do not appear in this string):\n",
    "\n",
    "`Berkeley,100158,37.8716667,-122.2716667. `\n",
    "\n",
    "And then you will need three functions `getPopulation`, `getLatitude`, and `getName` that return the corresponding data values."
   ]
  },
  {
   "cell_type": "code",
   "execution_count": null,
   "metadata": {},
   "outputs": [],
   "source": [
    "class City(self, code, name, region, population, lat, long):\n",
    "\n",
    "    def __init__:\n",
    "        self.code = code\n",
    "        self.name = name \n",
    "        self."
   ]
  }
 ],
 "metadata": {
  "interpreter": {
   "hash": "8da2674ad6258058d13ee0086267efa2a38eabfca86f71d724f1bc6a8ee69fc3"
  },
  "kernelspec": {
   "display_name": "Python 3.9.12 ('base')",
   "language": "python",
   "name": "python3"
  },
  "language_info": {
   "name": "python",
   "version": "3.9.12"
  },
  "orig_nbformat": 4
 },
 "nbformat": 4,
 "nbformat_minor": 2
}
