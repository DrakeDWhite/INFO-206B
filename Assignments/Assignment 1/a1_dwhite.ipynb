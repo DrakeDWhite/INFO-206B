{
 "cells": [
  {
   "cell_type": "markdown",
   "metadata": {},
   "source": [
    "# Assignment 1\n",
    "\n",
    "For this assignment, you will read in a text file containing information about cities in the world, store the information about each city in its own object within a list, sort the list according to different attributes, write the results out to a file, and display part of the output file in a visualization on a world map. "
   ]
  },
  {
   "cell_type": "markdown",
   "metadata": {},
   "source": [
    "### Part 1\n",
    "(3 points) Define a `City` class. Each `City` object will need instance variables to store the following information:\n",
    "- The city's country code (a two-letter string)\n",
    "- The city's name (a string)\n",
    "- The city's region (a two-character string)\n",
    "- The city's population (an int)\n",
    "- The city's latitude (a float)\n",
    "- The city's longitude (a float)\n",
    " \n",
    "\n",
    "You will need five methods in the `City` class. The `__init__` method does the usual: it takes six parameters (plus self) and stores each in the appropriate instance variable. The `__str__` method returns a string consisting of the city's name, population, latitude, and longitude, separated by commas and with no spaces around the commas. For example, here's the string that `__str__` should return for a town in California (notice that the country code and region do not appear in this string):\n",
    "\n",
    "`Berkeley,100158,37.8716667,-122.2716667. `\n",
    "\n",
    "And then you will need three functions `getPopulation`, `getLatitude`, and `getName` that return the corresponding data values."
   ]
  },
  {
   "cell_type": "code",
   "execution_count": 3,
   "metadata": {},
   "outputs": [
    {
     "name": "stdout",
     "output_type": "stream",
     "text": [
      "Berkeley, 100158, 37.8716667, -122.2716667\n",
      "100158\n",
      "37.8716667\n",
      "Berkeley\n"
     ]
    }
   ],
   "source": [
    "class City:\n",
    "    '''A class that is intended to represent a city, with values for its country code, name, region, population, latitude, longitude.'''\n",
    "    \n",
    "    # Instantiate\n",
    "    def __init__(self, code, name, region, pop, lat, long):\n",
    "        # Country Code\n",
    "        self.code = code\n",
    "        # City Name\n",
    "        self.__name = name \n",
    "        # City region\n",
    "        self.region = region\n",
    "        # City Population\n",
    "        self.__pop = pop\n",
    "        # City latitude\n",
    "        self.__lat = lat\n",
    "        # City longitude (unsure if this needs to be specifically private but it doesn't have a get so idk)\n",
    "        self.long = long\n",
    "\n",
    "    # to string method\n",
    "    def __str__(self):\n",
    "        return self.__name + \", \" + str(self.__pop) + \", \" + str(self.__lat) + \", \" + str(self.long)\n",
    "\n",
    "    #getpop\n",
    "    def getPopulation(self):\n",
    "        return self.__pop\n",
    "    \n",
    "    #getLat\n",
    "    def getLatitude(self):\n",
    "        return self.__lat\n",
    "\n",
    "    #getName\n",
    "    def getName(self):\n",
    "        return self.__name\n",
    "\n",
    "# Test cases\n",
    "berk = City(\"US\", \"Berkeley\", \"CA\", 100158, 37.8716667, -122.2716667)\n",
    "print(berk)\n",
    "print(berk.getPopulation())\n",
    "print(berk.getLatitude())\n",
    "print(berk.getName())"
   ]
  },
  {
   "cell_type": "code",
   "execution_count": null,
   "metadata": {},
   "outputs": [],
   "source": []
  }
 ],
 "metadata": {
  "interpreter": {
   "hash": "8da2674ad6258058d13ee0086267efa2a38eabfca86f71d724f1bc6a8ee69fc3"
  },
  "kernelspec": {
   "display_name": "Python 3.9.12 ('base')",
   "language": "python",
   "name": "python3"
  },
  "language_info": {
   "codemirror_mode": {
    "name": "ipython",
    "version": 3
   },
   "file_extension": ".py",
   "mimetype": "text/x-python",
   "name": "python",
   "nbconvert_exporter": "python",
   "pygments_lexer": "ipython3",
   "version": "3.9.12"
  },
  "orig_nbformat": 4
 },
 "nbformat": 4,
 "nbformat_minor": 2
}
