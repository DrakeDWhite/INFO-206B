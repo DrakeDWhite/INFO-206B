{
 "cells": [
  {
   "cell_type": "markdown",
   "metadata": {},
   "source": [
    "## Lists \n",
    "\n",
    "Lets think about the `L.insert(0, -1)` function. The first argument is the index, second is the value to be inserted.\n",
    "\n",
    "It doesn't just replace the character at that location - it shifts all characters to the right of it and puts it in this place.\n",
    "\n",
    "So:\n",
    "\n",
    "`L = [1, 2, 3, 4, 5, 6, 7, 8]`\n",
    "\n",
    "`L.insert(0, -1)``\n",
    "\n",
    "Becomes:\n",
    "\n",
    "L = [-1, 1, 2, 3, 4, 5, 6, 7, 8]`\n",
    "\n",
    "This also extends this list, if you didn't guess already."
   ]
  },
  {
   "cell_type": "code",
   "execution_count": 2,
   "metadata": {},
   "outputs": [
    {
     "name": "stdout",
     "output_type": "stream",
     "text": [
      "[-1, 1, 2, 3, 4, 5, 6, 7, 8]\n"
     ]
    }
   ],
   "source": [
    "L = [1, 2, 3, 4, 5, 6, 7, 8]\n",
    "\n",
    "L.insert(0, -1)\n",
    "\n",
    "print(L)"
   ]
  },
  {
   "cell_type": "markdown",
   "metadata": {},
   "source": [
    "#### So what's the runtime analysis of this? \n",
    "\n",
    "Big O notation - Each operation requires you to move the entire list. Each value being moved to the right is one operation. \n",
    "\n",
    "`O(n)`, because n = length of the list, which could be anything. \n",
    "\n",
    "\n",
    "#### What about adding something to the end of the list?"
   ]
  },
  {
   "cell_type": "code",
   "execution_count": 9,
   "metadata": {},
   "outputs": [
    {
     "name": "stdout",
     "output_type": "stream",
     "text": [
      "[-1, 1, 2, 3, 4, 5, 6, 7, 8, 9]\n"
     ]
    }
   ],
   "source": [
    "L.append(9)\n",
    "# adding this just because each subsequent run of this code adds another 9 :p\n",
    "L = L[0: 10]\n",
    "print(L)"
   ]
  },
  {
   "cell_type": "markdown",
   "metadata": {},
   "source": [
    "You would think that this wouldn't be very intensive, since you're just adding something to the end.\n",
    "\n",
    "Except - the list doesn't have any room for the 9 on the end. So python needs to take all of the elements of the list, put it in a new list, and then add the 9 on the end .\n",
    "\n",
    "Because the space wasn't allocated to append, it's going to be the same intensity because you have to move every element into a new thing.\n",
    "\n",
    "`l.append = O(n)`, you'd think, then.\n",
    "\n",
    "But Python is a bit clever about this - once you've appended something to a list, it allocates more space than you're actually using to the end of the list. So it doubles the amount of space if there's not room for the list. \n",
    "\n",
    "If your list is 8 long, and you've filled up all the memory space originally allocated for that list, then Python will allot 16 elements worth of memory to the list even if you append a single new entry. You're using 9 of the 16, and you can append another 7 before you use any more memory than what is already using.\n",
    "\n",
    "THis means there's a little overuse of memory, but Python does this in order to benefit runtime. \n",
    "\n",
    "So if you've got enough memory when you try to append, the notation is below:\n",
    "\n",
    "`O(1)`\n",
    "\n",
    "but if you have to allot new memory, it's `O(n)`. SO now we've got this as the final big O notation:\n",
    "\n",
    "`O(1)`, but sometimes `O(n)`\n",
    "\n",
    "`O(n)` because we're calculating worst case. \n",
    "\n",
    "\n",
    "In summation:\n",
    "##### Lists:\n",
    "- insert: O(n)\n",
    "- append: O(1), but sometimes O(n)\n",
    "- del: O(n)\n",
    "- access: O(1)\n",
    "<p>\n",
    "<p>\n",
    "\n",
    "\n",
    "\n"
   ]
  },
  {
   "cell_type": "markdown",
   "metadata": {},
   "source": [
    "##### Why is L.access = O(1)?\n",
    "\n",
    "Because every element has the same memory allocated to it, so Python knows exactly where the item is stored and can go directly to that item."
   ]
  },
  {
   "cell_type": "markdown",
   "metadata": {},
   "source": [
    "## Linked Lists\n",
    "\n",
    "They store a bunch of data, like a list. \n",
    "\n",
    "Unlike a list, the affiliation of the data is a little looser. \n",
    "\n",
    "The Linked list composes of a bunch of nodes - the node has two parts - the data being stored, and a pointer to the next item in the list. \n",
    "\n",
    "This way, each next item isn't tied together by index position. \n",
    "\n",
    "So usually, they're organized as objects - a list of \"nodes\". Example below:"
   ]
  },
  {
   "cell_type": "code",
   "execution_count": 10,
   "metadata": {},
   "outputs": [],
   "source": [
    "class Node:\n",
    "\n",
    "    def __init__(self, data):\n",
    "        self.data = data\n",
    "        self.next = None\n",
    "\n",
    "head = Node(\"Maine\")\n",
    "N1 = Node(\"Idaho\")\n",
    "N2 = Node(\"Utah\")\n"
   ]
  },
  {
   "cell_type": "markdown",
   "metadata": {},
   "source": [
    "but I want them all to have a pointer to the next node, so how do I do that?"
   ]
  },
  {
   "cell_type": "code",
   "execution_count": 11,
   "metadata": {},
   "outputs": [],
   "source": [
    "head.next = N1\n",
    "N1.next = N2"
   ]
  },
  {
   "cell_type": "markdown",
   "metadata": {},
   "source": [
    "Now what about if I want to print them? \n",
    "\n",
    "If I wanted to print everything in a regular list, I would just for loop and use the index. But in the case of a linked list, there isn't any notion of index. \n",
    "\n",
    "instead we want to make a while loop, but what condition do we set the while loop logic to? "
   ]
  },
  {
   "cell_type": "code",
   "execution_count": 13,
   "metadata": {},
   "outputs": [
    {
     "name": "stdout",
     "output_type": "stream",
     "text": [
      "Maine\n",
      "Idaho\n",
      "Utah\n"
     ]
    }
   ],
   "source": [
    "node = head\n",
    "while node:\n",
    "    print(node.data)\n",
    "    node = node.next\n",
    "\n"
   ]
  },
  {
   "cell_type": "markdown",
   "metadata": {},
   "source": [
    "This is because None is evaluated as False in the interest of boolean values. \n",
    "\n",
    "#### What about the Big O notation of this? Is it more efficient?\n",
    "\n",
    "Yes - it's more nimble in terms of things like deletion or insertion. You just have to point the previous element's pointer at a new object, instead of having to shift everything around.\n",
    "\n",
    "So "
   ]
  }
 ],
 "metadata": {
  "interpreter": {
   "hash": "8da2674ad6258058d13ee0086267efa2a38eabfca86f71d724f1bc6a8ee69fc3"
  },
  "kernelspec": {
   "display_name": "Python 3.9.12 ('base')",
   "language": "python",
   "name": "python3"
  },
  "language_info": {
   "codemirror_mode": {
    "name": "ipython",
    "version": 3
   },
   "file_extension": ".py",
   "mimetype": "text/x-python",
   "name": "python",
   "nbconvert_exporter": "python",
   "pygments_lexer": "ipython3",
   "version": "3.9.12"
  },
  "orig_nbformat": 4
 },
 "nbformat": 4,
 "nbformat_minor": 2
}
