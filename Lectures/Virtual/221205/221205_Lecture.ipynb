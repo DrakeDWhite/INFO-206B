{
 "cells": [
  {
   "cell_type": "code",
   "execution_count": 7,
   "metadata": {},
   "outputs": [
    {
     "name": "stdout",
     "output_type": "stream",
     "text": [
      "[[ 7.03511522e-03 -8.38755937e-02  1.00000000e+00]\n",
      " [ 1.73237133e-01 -4.16217651e-01  1.00000000e+00]\n",
      " [ 1.98507057e+00  1.40892533e+00  1.00000000e+00]\n",
      " [ 1.69681232e-01  4.11923819e-01  1.00000000e+00]\n",
      " [ 1.05906338e-02 -1.02910805e-01  1.00000000e+00]\n",
      " [ 1.62456576e-01  4.03059023e-01  1.00000000e+00]\n",
      " [ 5.56428888e-05 -7.45941612e-03  1.00000000e+00]\n",
      " [ 3.24837370e-01 -5.69945059e-01  1.00000000e+00]\n",
      " [ 1.63936091e-01  4.04890221e-01  1.00000000e+00]\n",
      " [ 1.50992863e-02  1.22879153e-01  1.00000000e+00]\n",
      " [ 9.69412730e-01 -9.84587594e-01  1.00000000e+00]\n",
      " [ 5.61783818e-02  2.37019792e-01  1.00000000e+00]\n",
      " [ 9.75023389e-02  3.12253645e-01  1.00000000e+00]\n",
      " [ 1.17156201e-01 -3.42280880e-01  1.00000000e+00]\n",
      " [ 8.36951136e-02  2.89301078e-01  1.00000000e+00]\n",
      " [ 4.04372147e-01  6.35902624e-01  1.00000000e+00]\n",
      " [ 7.44755626e-01  8.62992251e-01  1.00000000e+00]\n",
      " [ 1.71151778e+00  1.30824989e+00  1.00000000e+00]\n",
      " [ 3.66666003e+00 -1.91485248e+00  1.00000000e+00]\n",
      " [ 4.37079933e-02 -2.09064567e-01  1.00000000e+00]]\n"
     ]
    },
    {
     "data": {
      "image/png": "[encoded data removed]",
      "text/plain": [
       "<Figure size 432x288 with 1 Axes>"
      ]
     },
     "metadata": {
      "needs_background": "light"
     },
     "output_type": "display_data"
    }
   ],
   "source": [
    "import numpy as np\n",
    "from numpy.linalg import inv\n",
    "import matplotlib.pyplot as plt\n",
    "\n",
    "# generate \"noisy\" data\n",
    "n = 20 # number of points\n",
    "x = np.random.randn(n)\n",
    "y = np.random.randn(1)*x*x + np.random.randn(1)*x + np.random.randn(1) # second-order polynomial\n",
    "y = y + 0.1*np.random.randn(n) # add noise\n",
    "\n",
    "# your least-squares estimation code here (2 lines)\n",
    "X = np.stack((np.square(x), x, np.ones((n))), axis=1)\n",
    "#print(X)\n",
    "u = inv(np.transpose(X)@X)@np.transpose(X)@y \n",
    "\n",
    "# plot data and least-squares fit\n",
    "xp = np.arange(-2,2,0.1)\n",
    "yp = u[0]*xp*xp + u[1]*xp + u[2]\n",
    "plt.plot(x,y,'bo') # original data\n",
    "plt.plot( xp, yp, 'r-' ) # second-order polynomial fit\n",
    "plt.show()\n",
    "\n"
   ]
  },
  {
   "cell_type": "code",
   "execution_count": null,
   "metadata": {},
   "outputs": [],
   "source": [
    "# generate \"noisy\" data\n",
    "n = 20 # number of points\n",
    "x = 5*np.random.randn(n)\n",
    "y = np.random.randn(1)*x + np.random.randn(1) # first-order polynomial\n",
    "y = y + np.random.randn(n) # add noise\n",
    "\n",
    "# your least-squares estimation code here\n",
    "\n",
    "# your weighted least-squares estimation code here\n",
    "\n",
    "# plot data and least-squares fit\n",
    "x0 = np.arange(-20,20,0.1)\n",
    "y1 = u[0]*x0 + u[1]\n",
    "y2 = uw[0]*x0 + uw[1]\n",
    "\n",
    "ax = plt.subplot(1,1,1)\n",
    "plt.plot(x,y,'bo', label='data') # original data\n",
    "plt.plot( x0, y1, 'r-', label='LS') # least-squares fit\n",
    "plt.plot( x0, y2, 'g-', label='WLS' ) # weighted least-squares fit\n",
    "ax.legend()\n",
    "plt.show()"
   ]
  },
  {
   "cell_type": "code",
   "execution_count": null,
   "metadata": {},
   "outputs": [],
   "source": []
  }
 ],
 "metadata": {
  "kernelspec": {
   "display_name": "Python 3.9.12 ('base')",
   "language": "python",
   "name": "python3"
  },
  "language_info": {
   "codemirror_mode": {
    "name": "ipython",
    "version": 3
   },
   "file_extension": ".py",
   "mimetype": "text/x-python",
   "name": "python",
   "nbconvert_exporter": "python",
   "pygments_lexer": "ipython3",
   "version": "3.9.12"
  },
  "orig_nbformat": 4,
  "vscode": {
   "interpreter": {
    "hash": "6429919fe5eee10fa3db4376c75d0431aac4ee64633f3fde6de3e71a7b7c5c41"
   }
  }
 },
 "nbformat": 4,
 "nbformat_minor": 2
}
