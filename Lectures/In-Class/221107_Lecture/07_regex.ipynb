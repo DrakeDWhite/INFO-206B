{
 "cells": [
  {
   "cell_type": "markdown",
   "id": "83221038",
   "metadata": {},
   "source": [
    "## Finite Automata\n",
    "Also known as **finite state automata (FSA)** or **finite state machine (FSM)**\n",
    "    When we say \"finite\" that means this machine has only a finite number of states that it can find itself in \n",
    "        Hence the *finite state* part of the definition\n",
    "\n",
    "There may be quite a bit of states, but at the end of the day there is only a finite number\n",
    "\n",
    "A simple mathematical model of a computer\n",
    "\n",
    "Applications: hardware design, compiler design, text processing \n",
    "\n",
    "\n",
    "### An example\n",
    "A touch-less hand dryer\n",
    "\n",
    "<img src=\"https://lh3.googleusercontent.com/A0vns9aiCQTuUs7AnqANfWBctp0c0txUNNUXHbMrst45gmKt8b96Obpsd2Z7h4U0n-pEqSawce_edVcGeEkmApgbooqE6PzjsJjz8_Y-1fR7AOprX5uPiafIm0wErFI3J6cUwUU16Q-fA9zlx4QtiHMWVJOP4qWxLVaZAddIHOkJhesVuKhWcPJInNXwDKjr3d_mS87Dy2Wprd8dsl6yMHBRUkBt-VWx7FMv4wV_Pm6p90G_N1--E400ADLfwQcmI6qzR_QStmN8zTOHRgKv6mSVk-BkPh9IGrHnk_MIKJp8h7ZkwTgxdZDwKyJeer-8bH4w8M5NHu5Fs3y_7xPXv888bUjmrJxNizJwlmx4l5IKdGtx1jrAAnDnruiELMxhryAzOM4Wcv7apE0AkqM7EeHgOUolmZdk6V7Nc1q1zVCyM0VaBvZSfdYuxIKkS8BJCL9S9BR0c2lwRFR1aqR3vbn4hXgI9-r8PG5AnjYdNqXt5Aj1ubWtQyDDymN8wVxNL4WOT4m9-E_wfFoxiQ7V2PhhXCVg6z7xZR7sJNoMkCCQ3ZFL1AkWsPGpQQovp8wn2OQubjqqIWB1tOrZgzjOQ5Z0ToEZjdIyiuPVT7SUK2emT9skMquBXaf1_Eklqjkm4__I-8WPVhjUr0rmiXKgIKmzCKgZaHb_dIvgpiEvPfEcPzhnIS8yn_aUzEZRHgt85-9ukVIPLIdPzgwKDhBu6PQSb5g17G_qA9LQ8A7HbcJr8cVoqw9KmyVUe1Un2OzIybm8IdFnZ4AsADUXVcNvpbzP1TEFlL3tOP5HKYH0hQGAh9mkJuC_YkWsW4zfJlrFvkuYJjKzfZkhrNl0ikw29_TJGlTqgNXyycjPDstKLMzaakXDBMU0qhNrOxLUtrlSwF-dB85WcENV_PbvAJ8o0MfN5WEKpJvlsQkVH1e8WPdfWZBdRg=w2072-h1554-no?authuser=0\" alt=\"MarineGEO circle logo\" style=\"height: 400px;\"/>\n",
    "\n",
    "Each line is a transition between states - when a hand is detected, the state changes (or maintains). The line above the hand in the bottom middle indicates **not** hand \n",
    "\n",
    "\n",
    "\n",
    "<img src=\"https://i.imgur.com/ZoCaWiy.png\" style = \"height: 400px;\">\n",
    "\n",
    "This image displays the different kind of indications for states.\n",
    "\n",
    "\n",
    "Transition: S<sub>1</sub> -><sup>x</sup>  S<sub>2</sub>\n",
    "- In state S<sub>1</sub> on input \"x\" go to state S<sub>2</sub> \n",
    "\n",
    "At the end of input:\n",
    "- If in an accepting state -> *accept*\n",
    "- Else -> *reject*\n",
    "- If no transition is possible -> *reject* \n"
   ]
  },
  {
   "cell_type": "code",
   "execution_count": null,
   "id": "194c45f3",
   "metadata": {},
   "outputs": [],
   "source": [
    "import re"
   ]
  },
  {
   "cell_type": "code",
   "execution_count": 2,
   "id": "660a3f54",
   "metadata": {},
   "outputs": [],
   "source": [
    "sentence = 'how much wood does a woodchuck Chuck?'\n",
    "\n",
    "pattern = re.compile(r'woodchuck')\n",
    "print(pattern.findall(sentence))\n"
   ]
  },
  {
   "cell_type": "code",
   "execution_count": 3,
   "id": "d7355a21",
   "metadata": {},
   "outputs": [],
   "source": [
    "# what is the regex for matching 'chuck' and 'Chuck'?\n",
    "\n",
    "pattern = re.compile(r'')\n",
    "print(pattern.findall(sentence))\n"
   ]
  },
  {
   "cell_type": "code",
   "execution_count": 4,
   "id": "e32ebf33",
   "metadata": {},
   "outputs": [],
   "source": [
    "sentence = 'behaviour is the British spelling of behavior'\n",
    "\n",
    "# what is the regex for matching 'behavior' and 'behaviour'?\n",
    "\n",
    "pattern = re.compile(r'')\n",
    "print(pattern.findall(sentence))\n"
   ]
  },
  {
   "cell_type": "code",
   "execution_count": 5,
   "id": "917eca71",
   "metadata": {},
   "outputs": [],
   "source": [
    "sentence = 'pant, pint, paint, and print'\n",
    "\n",
    "# what is the regex for matching all the four letter words starting with 'p' and ending with 'nt'?\n",
    "\n",
    "pattern = re.compile(r'')\n",
    "print(pattern.findall(sentence))\n"
   ]
  },
  {
   "cell_type": "code",
   "execution_count": 6,
   "id": "966c5055",
   "metadata": {},
   "outputs": [],
   "source": [
    "# what is the regex for matching all the words starting with 'p' and ending with 'nt'?\n",
    "\n",
    "pattern = re.compile(r'')\n",
    "print(pattern.findall(sentence))\n",
    "\n"
   ]
  },
  {
   "cell_type": "code",
   "execution_count": 7,
   "id": "07bfc48f",
   "metadata": {},
   "outputs": [],
   "source": [
    "# what is the regex for matching the words 'pant' and 'paint'?\n",
    "\n",
    "pattern = re.compile(r'')\n",
    "print(pattern.findall(sentence))\n"
   ]
  },
  {
   "cell_type": "code",
   "execution_count": 8,
   "id": "4bc14f0c",
   "metadata": {},
   "outputs": [],
   "source": [
    "sentence = 'Which foot of his fell off fastest?'\n",
    "\n",
    "# find all the words that start with the letter 'f'\n",
    "\n",
    "pattern = re.compile(r'')\n",
    "print(pattern.findall(sentence))\n"
   ]
  },
  {
   "cell_type": "code",
   "execution_count": 9,
   "id": "4f268e84",
   "metadata": {},
   "outputs": [],
   "source": [
    "string = '<tag>text</tag>'\n",
    "\n",
    "# greedy match\n",
    "\n",
    "pattern = re.compile(r'<.*>')\n",
    "print(pattern.findall(string))"
   ]
  },
  {
   "cell_type": "code",
   "execution_count": 10,
   "id": "26684cdc",
   "metadata": {},
   "outputs": [],
   "source": [
    "# non-greedy match\n",
    "\n",
    "pattern = re.compile(r'<.*?>')\n",
    "print(pattern.findall(string))"
   ]
  },
  {
   "cell_type": "code",
   "execution_count": 11,
   "id": "cb228caf",
   "metadata": {},
   "outputs": [],
   "source": [
    "# use parenthesis to identify the contents of a group to retrieve\n",
    "\n",
    "pattern = re.compile(r'<.*?>(.*)<.*?>')\n",
    "print(pattern.findall(string))"
   ]
  },
  {
   "cell_type": "code",
   "execution_count": 12,
   "id": "add416f7",
   "metadata": {},
   "outputs": [],
   "source": [
    "# equivalent, more readable version, using the VERBOSE flag\n",
    "\n",
    "pattern = re.compile(r'''\n",
    "    <.*?>                    # first <>\n",
    "    (.*)                     # capture text\n",
    "    <.*?>                    # end <>\n",
    "    ''', re.VERBOSE)\n",
    "\n",
    "print(pattern.findall(string))"
   ]
  },
  {
   "cell_type": "code",
   "execution_count": 13,
   "id": "404580cc",
   "metadata": {},
   "outputs": [],
   "source": [
    "math_equation = 'Area of unit circle = 3.14159 * 1.0 * 1.0'\n",
    "\n",
    "# find all numbers with a decimal point\n",
    "\n",
    "pattern = re.compile(r'')\n",
    "\n",
    "print(pattern.findall(math_equation))"
   ]
  },
  {
   "cell_type": "code",
   "execution_count": 14,
   "id": "579a5c64",
   "metadata": {},
   "outputs": [],
   "source": [
    "sentence = 'His net worth is $100 billion but he still agonizes over spending $5 or $0.50.'\n",
    "\n",
    "# find all dollar amounts, i.e., $100, $5, and $0.50\n",
    "\n",
    "pattern = re.compile(r'')\n",
    "\n",
    "print(pattern.findall(sentence))"
   ]
  },
  {
   "cell_type": "code",
   "execution_count": null,
   "id": "71864e8b",
   "metadata": {},
   "outputs": [],
   "source": []
  },
  {
   "cell_type": "code",
   "execution_count": null,
   "id": "6e2071f2",
   "metadata": {},
   "outputs": [],
   "source": []
  }
 ],
 "metadata": {
  "kernelspec": {
   "display_name": "Python 3 (ipykernel)",
   "language": "python",
   "name": "python3"
  },
  "language_info": {
   "codemirror_mode": {
    "name": "ipython",
    "version": 3
   },
   "file_extension": ".py",
   "mimetype": "text/x-python",
   "name": "python",
   "nbconvert_exporter": "python",
   "pygments_lexer": "ipython3",
   "version": "3.9.12"
  }
 },
 "nbformat": 4,
 "nbformat_minor": 5
}
