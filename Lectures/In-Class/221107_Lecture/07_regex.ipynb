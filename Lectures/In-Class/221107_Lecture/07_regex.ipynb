{
 "cells": [
  {
   "cell_type": "markdown",
   "id": "83221038",
   "metadata": {},
   "source": [
    "## Finite Automata\n",
    "Also known as **finite state automata (FSA)** or **finite state machine (FSM)**\n",
    "    When we say \"finite\" that means this machine has only a finite number of states that it can find itself in \n",
    "        Hence the *finite state* part of the definition\n",
    "\n",
    "    \n",
    "\n",
    "A simple mathematical model of a computer\n",
    "\n",
    "Applications: hardware design, compiler design, text processing \n",
    "\n"
   ]
  },
  {
   "cell_type": "code",
   "execution_count": null,
   "id": "194c45f3",
   "metadata": {},
   "outputs": [],
   "source": [
    "import re"
   ]
  },
  {
   "cell_type": "code",
   "execution_count": 2,
   "id": "660a3f54",
   "metadata": {},
   "outputs": [],
   "source": [
    "sentence = 'how much wood does a woodchuck Chuck?'\n",
    "\n",
    "pattern = re.compile(r'woodchuck')\n",
    "print(pattern.findall(sentence))\n"
   ]
  },
  {
   "cell_type": "code",
   "execution_count": 3,
   "id": "d7355a21",
   "metadata": {},
   "outputs": [],
   "source": [
    "# what is the regex for matching 'chuck' and 'Chuck'?\n",
    "\n",
    "pattern = re.compile(r'')\n",
    "print(pattern.findall(sentence))\n"
   ]
  },
  {
   "cell_type": "code",
   "execution_count": 4,
   "id": "e32ebf33",
   "metadata": {},
   "outputs": [],
   "source": [
    "sentence = 'behaviour is the British spelling of behavior'\n",
    "\n",
    "# what is the regex for matching 'behavior' and 'behaviour'?\n",
    "\n",
    "pattern = re.compile(r'')\n",
    "print(pattern.findall(sentence))\n"
   ]
  },
  {
   "cell_type": "code",
   "execution_count": 5,
   "id": "917eca71",
   "metadata": {},
   "outputs": [],
   "source": [
    "sentence = 'pant, pint, paint, and print'\n",
    "\n",
    "# what is the regex for matching all the four letter words starting with 'p' and ending with 'nt'?\n",
    "\n",
    "pattern = re.compile(r'')\n",
    "print(pattern.findall(sentence))\n"
   ]
  },
  {
   "cell_type": "code",
   "execution_count": 6,
   "id": "966c5055",
   "metadata": {},
   "outputs": [],
   "source": [
    "# what is the regex for matching all the words starting with 'p' and ending with 'nt'?\n",
    "\n",
    "pattern = re.compile(r'')\n",
    "print(pattern.findall(sentence))\n",
    "\n"
   ]
  },
  {
   "cell_type": "code",
   "execution_count": 7,
   "id": "07bfc48f",
   "metadata": {},
   "outputs": [],
   "source": [
    "# what is the regex for matching the words 'pant' and 'paint'?\n",
    "\n",
    "pattern = re.compile(r'')\n",
    "print(pattern.findall(sentence))\n"
   ]
  },
  {
   "cell_type": "code",
   "execution_count": 8,
   "id": "4bc14f0c",
   "metadata": {},
   "outputs": [],
   "source": [
    "sentence = 'Which foot of his fell off fastest?'\n",
    "\n",
    "# find all the words that start with the letter 'f'\n",
    "\n",
    "pattern = re.compile(r'')\n",
    "print(pattern.findall(sentence))\n"
   ]
  },
  {
   "cell_type": "code",
   "execution_count": 9,
   "id": "4f268e84",
   "metadata": {},
   "outputs": [],
   "source": [
    "string = '<tag>text</tag>'\n",
    "\n",
    "# greedy match\n",
    "\n",
    "pattern = re.compile(r'<.*>')\n",
    "print(pattern.findall(string))"
   ]
  },
  {
   "cell_type": "code",
   "execution_count": 10,
   "id": "26684cdc",
   "metadata": {},
   "outputs": [],
   "source": [
    "# non-greedy match\n",
    "\n",
    "pattern = re.compile(r'<.*?>')\n",
    "print(pattern.findall(string))"
   ]
  },
  {
   "cell_type": "code",
   "execution_count": 11,
   "id": "cb228caf",
   "metadata": {},
   "outputs": [],
   "source": [
    "# use parenthesis to identify the contents of a group to retrieve\n",
    "\n",
    "pattern = re.compile(r'<.*?>(.*)<.*?>')\n",
    "print(pattern.findall(string))"
   ]
  },
  {
   "cell_type": "code",
   "execution_count": 12,
   "id": "add416f7",
   "metadata": {},
   "outputs": [],
   "source": [
    "# equivalent, more readable version, using the VERBOSE flag\n",
    "\n",
    "pattern = re.compile(r'''\n",
    "    <.*?>                    # first <>\n",
    "    (.*)                     # capture text\n",
    "    <.*?>                    # end <>\n",
    "    ''', re.VERBOSE)\n",
    "\n",
    "print(pattern.findall(string))"
   ]
  },
  {
   "cell_type": "code",
   "execution_count": 13,
   "id": "404580cc",
   "metadata": {},
   "outputs": [],
   "source": [
    "math_equation = 'Area of unit circle = 3.14159 * 1.0 * 1.0'\n",
    "\n",
    "# find all numbers with a decimal point\n",
    "\n",
    "pattern = re.compile(r'')\n",
    "\n",
    "print(pattern.findall(math_equation))"
   ]
  },
  {
   "cell_type": "code",
   "execution_count": 14,
   "id": "579a5c64",
   "metadata": {},
   "outputs": [],
   "source": [
    "sentence = 'His net worth is $100 billion but he still agonizes over spending $5 or $0.50.'\n",
    "\n",
    "# find all dollar amounts, i.e., $100, $5, and $0.50\n",
    "\n",
    "pattern = re.compile(r'')\n",
    "\n",
    "print(pattern.findall(sentence))"
   ]
  },
  {
   "cell_type": "code",
   "execution_count": null,
   "id": "71864e8b",
   "metadata": {},
   "outputs": [],
   "source": []
  },
  {
   "cell_type": "code",
   "execution_count": null,
   "id": "6e2071f2",
   "metadata": {},
   "outputs": [],
   "source": []
  }
 ],
 "metadata": {
  "kernelspec": {
   "display_name": "Python 3 (ipykernel)",
   "language": "python",
   "name": "python3"
  },
  "language_info": {
   "codemirror_mode": {
    "name": "ipython",
    "version": 3
   },
   "file_extension": ".py",
   "mimetype": "text/x-python",
   "name": "python",
   "nbconvert_exporter": "python",
   "pygments_lexer": "ipython3",
   "version": "3.9.12"
  }
 },
 "nbformat": 4,
 "nbformat_minor": 5
}
