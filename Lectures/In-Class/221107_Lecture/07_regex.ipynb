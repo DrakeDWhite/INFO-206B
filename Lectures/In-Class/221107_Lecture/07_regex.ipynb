{
 "cells": [
  {
   "cell_type": "code",
   "execution_count": 15,
   "id": "83221038",
   "metadata": {},
   "outputs": [],
   "source": [
    "import re"
   ]
  },
  {
   "cell_type": "code",
   "execution_count": 16,
   "id": "660a3f54",
   "metadata": {},
   "outputs": [
    {
     "name": "stdout",
     "output_type": "stream",
     "text": [
      "['woodchuck']\n"
     ]
    }
   ],
   "source": [
    "sentence = 'how much wood does a woodchuck Chuck?'\n",
    "\n",
    "pattern = re.compile(r'woodchuck')\n",
    "print(pattern.findall(sentence))\n"
   ]
  },
  {
   "cell_type": "code",
   "execution_count": 17,
   "id": "d7355a21",
   "metadata": {},
   "outputs": [
    {
     "name": "stdout",
     "output_type": "stream",
     "text": [
      "['', '', '', '', '', '', '', '', '', '', '', '', '', '', '', '', '', '', '', '', '', '', '', '', '', '', '', '', '', '', '', '', '', '', '', '', '', '']\n"
     ]
    }
   ],
   "source": [
    "# what is the regex for matching 'chuck' and 'Chuck'?\n",
    "\n",
    "pattern = re.compile(r'')\n",
    "print(pattern.findall(sentence))\n"
   ]
  },
  {
   "cell_type": "code",
   "execution_count": 18,
   "id": "e32ebf33",
   "metadata": {},
   "outputs": [
    {
     "name": "stdout",
     "output_type": "stream",
     "text": [
      "['', '', '', '', '', '', '', '', '', '', '', '', '', '', '', '', '', '', '', '', '', '', '', '', '', '', '', '', '', '', '', '', '', '', '', '', '', '', '', '', '', '', '', '', '', '']\n"
     ]
    }
   ],
   "source": [
    "sentence = 'behaviour is the British spelling of behavior'\n",
    "\n",
    "# what is the regex for matching 'behavior' and 'behaviour'?\n",
    "\n",
    "pattern = re.compile(r'')\n",
    "print(pattern.findall(sentence))\n"
   ]
  },
  {
   "cell_type": "code",
   "execution_count": 19,
   "id": "917eca71",
   "metadata": {},
   "outputs": [
    {
     "name": "stdout",
     "output_type": "stream",
     "text": [
      "['', '', '', '', '', '', '', '', '', '', '', '', '', '', '', '', '', '', '', '', '', '', '', '', '', '', '', '', '']\n"
     ]
    }
   ],
   "source": [
    "sentence = 'pant, pint, paint, and print'\n",
    "\n",
    "# what is the regex for matching all the four letter words starting with 'p' and ending with 'nt'?\n",
    "\n",
    "pattern = re.compile(r'')\n",
    "print(pattern.findall(sentence))\n"
   ]
  },
  {
   "cell_type": "code",
   "execution_count": 20,
   "id": "966c5055",
   "metadata": {},
   "outputs": [
    {
     "name": "stdout",
     "output_type": "stream",
     "text": [
      "['', '', '', '', '', '', '', '', '', '', '', '', '', '', '', '', '', '', '', '', '', '', '', '', '', '', '', '', '']\n"
     ]
    }
   ],
   "source": [
    "# what is the regex for matching all the words starting with 'p' and ending with 'nt'?\n",
    "\n",
    "pattern = re.compile(r'')\n",
    "print(pattern.findall(sentence))\n",
    "\n"
   ]
  },
  {
   "cell_type": "code",
   "execution_count": 21,
   "id": "07bfc48f",
   "metadata": {},
   "outputs": [
    {
     "name": "stdout",
     "output_type": "stream",
     "text": [
      "['', '', '', '', '', '', '', '', '', '', '', '', '', '', '', '', '', '', '', '', '', '', '', '', '', '', '', '', '']\n"
     ]
    }
   ],
   "source": [
    "# what is the regex for matching the words 'pant' and 'paint'?\n",
    "\n",
    "pattern = re.compile(r'')\n",
    "print(pattern.findall(sentence))\n"
   ]
  },
  {
   "cell_type": "code",
   "execution_count": 22,
   "id": "4bc14f0c",
   "metadata": {},
   "outputs": [
    {
     "name": "stdout",
     "output_type": "stream",
     "text": [
      "['', '', '', '', '', '', '', '', '', '', '', '', '', '', '', '', '', '', '', '', '', '', '', '', '', '', '', '', '', '', '', '', '', '', '', '']\n"
     ]
    }
   ],
   "source": [
    "sentence = 'Which foot of his fell off fastest?'\n",
    "\n",
    "# find all the words that start with the letter 'f'\n",
    "\n",
    "pattern = re.compile(r'')\n",
    "print(pattern.findall(sentence))\n"
   ]
  },
  {
   "cell_type": "code",
   "execution_count": 23,
   "id": "4f268e84",
   "metadata": {},
   "outputs": [
    {
     "name": "stdout",
     "output_type": "stream",
     "text": [
      "['<tag>text</tag>']\n"
     ]
    }
   ],
   "source": [
    "string = '<tag>text</tag>'\n",
    "\n",
    "# greedy match\n",
    "\n",
    "pattern = re.compile(r'<.*>')\n",
    "print(pattern.findall(string))"
   ]
  },
  {
   "cell_type": "code",
   "execution_count": 24,
   "id": "26684cdc",
   "metadata": {},
   "outputs": [
    {
     "name": "stdout",
     "output_type": "stream",
     "text": [
      "['<tag>', '</tag>']\n"
     ]
    }
   ],
   "source": [
    "# non-greedy match\n",
    "\n",
    "pattern = re.compile(r'<.*?>')\n",
    "print(pattern.findall(string))"
   ]
  },
  {
   "cell_type": "code",
   "execution_count": 25,
   "id": "cb228caf",
   "metadata": {},
   "outputs": [
    {
     "name": "stdout",
     "output_type": "stream",
     "text": [
      "['text']\n"
     ]
    }
   ],
   "source": [
    "# use parenthesis to identify the contents of a group to retrieve\n",
    "\n",
    "pattern = re.compile(r'<.*?>(.*)<.*?>')\n",
    "print(pattern.findall(string))"
   ]
  },
  {
   "cell_type": "code",
   "execution_count": 26,
   "id": "add416f7",
   "metadata": {},
   "outputs": [
    {
     "name": "stdout",
     "output_type": "stream",
     "text": [
      "['text']\n"
     ]
    }
   ],
   "source": [
    "# equivalent, more readable version, using the VERBOSE flag\n",
    "\n",
    "pattern = re.compile(r'''\n",
    "    <.*?>                    # first <>\n",
    "    (.*)                     # capture text\n",
    "    <.*?>                    # end <>\n",
    "    ''', re.VERBOSE)\n",
    "\n",
    "print(pattern.findall(string))"
   ]
  },
  {
   "cell_type": "code",
   "execution_count": 27,
   "id": "404580cc",
   "metadata": {},
   "outputs": [
    {
     "name": "stdout",
     "output_type": "stream",
     "text": [
      "['', '', '', '', '', '', '', '', '', '', '', '', '', '', '', '', '', '', '', '', '', '', '', '', '', '', '', '', '', '', '', '', '', '', '', '', '', '', '', '', '', '']\n"
     ]
    }
   ],
   "source": [
    "math_equation = 'Area of unit circle = 3.14159 * 1.0 * 1.0'\n",
    "\n",
    "# find all numbers with a decimal point\n",
    "\n",
    "pattern = re.compile(r'')\n",
    "\n",
    "print(pattern.findall(math_equation))"
   ]
  },
  {
   "cell_type": "code",
   "execution_count": 28,
   "id": "579a5c64",
   "metadata": {},
   "outputs": [
    {
     "name": "stdout",
     "output_type": "stream",
     "text": [
      "['', '', '', '', '', '', '', '', '', '', '', '', '', '', '', '', '', '', '', '', '', '', '', '', '', '', '', '', '', '', '', '', '', '', '', '', '', '', '', '', '', '', '', '', '', '', '', '', '', '', '', '', '', '', '', '', '', '', '', '', '', '', '', '', '', '', '', '', '', '', '', '', '', '', '', '', '', '', '']\n"
     ]
    }
   ],
   "source": [
    "sentence = 'His net worth is $100 billion but he still agonizes over spending $5 or $0.50.'\n",
    "\n",
    "# find all dollar amounts, i.e., $100, $5, and $0.50\n",
    "\n",
    "pattern = re.compile(r'')\n",
    "\n",
    "print(pattern.findall(sentence))"
   ]
  },
  {
   "cell_type": "code",
   "execution_count": null,
   "id": "71864e8b",
   "metadata": {},
   "outputs": [],
   "source": []
  },
  {
   "cell_type": "code",
   "execution_count": null,
   "id": "6e2071f2",
   "metadata": {},
   "outputs": [],
   "source": []
  }
 ],
 "metadata": {
  "kernelspec": {
   "display_name": "Python 3.10.8 64-bit (microsoft store)",
   "language": "python",
   "name": "python3"
  },
  "language_info": {
   "codemirror_mode": {
    "name": "ipython",
    "version": 3
   },
   "file_extension": ".py",
   "mimetype": "text/x-python",
   "name": "python",
   "nbconvert_exporter": "python",
   "pygments_lexer": "ipython3",
   "version": "3.10.8"
  },
  "vscode": {
   "interpreter": {
    "hash": "4c98c6d3aee2838e64c8d8685d0345539a7ca4b69b8ca7454491c28cd4729e11"
   }
  }
 },
 "nbformat": 4,
 "nbformat_minor": 5
}
