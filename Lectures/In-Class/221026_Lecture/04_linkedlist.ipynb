{
 "cells": [
  {
   "cell_type": "code",
   "execution_count": null,
   "id": "ec3eb1c2",
   "metadata": {},
   "outputs": [],
   "source": [
    "class Node:\n",
    "    def __init__(self, data):\n",
    "        self.data = data\n",
    "        self.next = None\n",
    "\n",
    "class LinkedList:\n",
    "    def __init__(self, head = None):\n",
    "        self.head = head\n",
    "        self.count = 0\n",
    "\n",
    "    def __str__(self):\n",
    "        content = \"\"\n",
    "        if self.head == None:\n",
    "            return content\n",
    "\n",
    "        cur = self.head;\n",
    "        while cur.next != None:\n",
    "            content = content + cur.data + \" --> \"\n",
    "            cur = cur.next\n",
    "        content = content + cur.data\n",
    "        return content\n",
    "\n",
    "    # return length of the list\n",
    "    def __len__(self):\n",
    "        return self.count\n",
    "\n",
    "    # insert new node at head of the list    \n",
    "    def insertAtHead(self, data):\n",
    "        # write your code here\n",
    "\n",
    "        \n",
    "    # insert new node at end of the list\n",
    "    def insertAtEnd(self, data):\n",
    "        # write your code here\n",
    "\n",
    "\n",
    "    # remove and return first node of the list\n",
    "    def popHead(self):\n",
    "        # write your code here\n",
    "\n",
    "\n",
    "    # remove and return last node of the list\n",
    "    def popEnd(self):\n",
    "        # write your code here\n",
    "\n",
    "\n",
    "    # find item in list (return item value if found; else return None)\n",
    "    def find(self, target):\n",
    "        # write your code here\n",
    "\n",
    "\n",
    "    # remove item in list (return item value if found; else return None)\n",
    "    def remove(self, target):\n",
    "        # write your code here\n",
    "\n"
   ]
  },
  {
   "cell_type": "code",
   "execution_count": null,
   "id": "639b1830",
   "metadata": {},
   "outputs": [],
   "source": [
    "myLL = LinkedList()\n",
    "myLL.insertAtHead(\"A\")\n",
    "print(str(myLL))\n",
    "print(len(myLL))\n",
    "\n",
    "myLL.insertAtHead(\"B\")\n",
    "print(str(myLL))\n",
    "print(len(myLL))\n"
   ]
  },
  {
   "cell_type": "code",
   "execution_count": null,
   "id": "01ef9a74",
   "metadata": {},
   "outputs": [],
   "source": [
    "myLL.insertAtEnd(\"C\")\n",
    "print(str(myLL))\n",
    "print(len(myLL))\n",
    "\n",
    "myLL.insertAtEnd(\"D\")\n",
    "print(str(myLL))\n",
    "print(len(myLL))\n"
   ]
  },
  {
   "cell_type": "code",
   "execution_count": null,
   "id": "2e1a2446",
   "metadata": {},
   "outputs": [],
   "source": [
    "print(myLL.popHead())\n",
    "print(str(myLL))\n",
    "print(len(myLL))\n"
   ]
  },
  {
   "cell_type": "code",
   "execution_count": null,
   "id": "a58b18b3",
   "metadata": {},
   "outputs": [],
   "source": [
    "print(myLL.popEnd())\n",
    "print(myLL.popEnd())\n",
    "print(str(myLL))\n",
    "print(len(myLL))\n"
   ]
  },
  {
   "cell_type": "code",
   "execution_count": null,
   "id": "92aaa851",
   "metadata": {},
   "outputs": [],
   "source": [
    "myLL.insertAtEnd(\"B\")\n",
    "myLL.insertAtEnd(\"C\")\n",
    "print(str(myLL))\n",
    "print(len(myLL))\n",
    "\n",
    "print(myLL.find(\"A\"))\n",
    "print(myLL.find(\"B\"))\n",
    "print(myLL.find(\"C\"))\n",
    "print(myLL.find(\"D\"))\n"
   ]
  },
  {
   "cell_type": "code",
   "execution_count": null,
   "id": "3efbd240",
   "metadata": {},
   "outputs": [],
   "source": [
    "print(myLL.remove(\"B\"))\n",
    "print(str(myLL))\n"
   ]
  },
  {
   "cell_type": "code",
   "execution_count": null,
   "id": "a57ceb3d",
   "metadata": {},
   "outputs": [],
   "source": []
  },
  {
   "cell_type": "code",
   "execution_count": null,
   "id": "9846ca7b",
   "metadata": {},
   "outputs": [],
   "source": [
    "from collections import deque\n",
    "\n",
    "myQ = deque(['A','B','C'])\n",
    "print(myQ)"
   ]
  },
  {
   "cell_type": "code",
   "execution_count": null,
   "id": "79b03463",
   "metadata": {},
   "outputs": [],
   "source": [
    "myQ.append('D')\n",
    "myQ.appendleft('E')\n",
    "print(myQ)"
   ]
  },
  {
   "cell_type": "code",
   "execution_count": null,
   "id": "febbd656",
   "metadata": {},
   "outputs": [],
   "source": [
    "print(myQ.pop())\n",
    "print(myQ.popleft())\n",
    "print(myQ)"
   ]
  },
  {
   "cell_type": "code",
   "execution_count": null,
   "id": "c251c132",
   "metadata": {},
   "outputs": [],
   "source": []
  }
 ],
 "metadata": {
  "interpreter": {
   "hash": "8da2674ad6258058d13ee0086267efa2a38eabfca86f71d724f1bc6a8ee69fc3"
  },
  "kernelspec": {
   "display_name": "Python 3.9.12 ('base')",
   "language": "python",
   "name": "python3"
  },
  "language_info": {
   "codemirror_mode": {
    "name": "ipython",
    "version": 3
   },
   "file_extension": ".py",
   "mimetype": "text/x-python",
   "name": "python",
   "nbconvert_exporter": "python",
   "pygments_lexer": "ipython3",
   "version": "3.9.12"
  }
 },
 "nbformat": 4,
 "nbformat_minor": 5
}
