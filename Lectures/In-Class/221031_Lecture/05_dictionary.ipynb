{
 "cells": [
  {
   "cell_type": "code",
   "execution_count": 1,
   "id": "ad5968b2",
   "metadata": {},
   "outputs": [],
   "source": [
    "# Dictionary\n",
    "# (aka hash table, lookup table, associative array, or map)\n",
    "# A searchable collection of key-value pairs\n"
   ]
  },
  {
   "cell_type": "code",
   "execution_count": 2,
   "id": "914bc8f1",
   "metadata": {},
   "outputs": [
    {
     "data": {
      "text/html": [
       "<img src=\"https://upload.wikimedia.org/wikipedia/commons/1/1b/ASCII-Table-wide.svg\" width=\"700\"/>"
      ],
      "text/plain": [
       "<IPython.core.display.Image object>"
      ]
     },
     "execution_count": 2,
     "metadata": {},
     "output_type": "execute_result"
    }
   ],
   "source": [
    "from IPython.display import Image\n",
    "Image(url=\"https://upload.wikimedia.org/wikipedia/commons/1/1b/ASCII-Table-wide.svg\", width=700)\n"
   ]
  },
  {
   "cell_type": "code",
   "execution_count": 3,
   "id": "17a4aa4e",
   "metadata": {},
   "outputs": [
    {
     "name": "stdout",
     "output_type": "stream",
     "text": [
      "{'a': 97, 'b': 98, 'c': 99, 'd': 100, 'e': 101, 'f': 102, 'g': 103, 'h': 104, 'i': 105, 'j': 106, 'k': 107, 'l': 108, 'm': 109, 'n': 110, 'o': 111, 'p': 112, 'q': 113, 'r': 114, 's': 115, 't': 116, 'u': 117, 'v': 118, 'w': 119, 'x': 120, 'y': 121, 'z': 122}\n"
     ]
    }
   ],
   "source": [
    "# build a dictionary with lowercase letters (a-z) as keys, and their unicode/ascii representations as values\n",
    "\n",
    "D = {}\n",
    "\n",
    "for i in range(97,123):\n",
    "    c = chr(i)\n",
    "    D[c] = i\n",
    "\n",
    "print(D)"
   ]
  },
  {
   "cell_type": "code",
   "execution_count": 4,
   "id": "deca6b45",
   "metadata": {},
   "outputs": [
    {
     "name": "stdout",
     "output_type": "stream",
     "text": [
      "a|b|c|d|e|f|g|h|i|j|k|l|m|n|o|p|q|r|s|t|u|v|w|x|y|z|"
     ]
    }
   ],
   "source": [
    "# iterate over the dictionary keys\n",
    "\n",
    "for k in D.keys():\n",
    "    print(k, end=\"|\")"
   ]
  },
  {
   "cell_type": "code",
   "execution_count": 5,
   "id": "e9b47559",
   "metadata": {},
   "outputs": [
    {
     "name": "stdout",
     "output_type": "stream",
     "text": [
      "97|98|99|100|101|102|103|104|105|106|107|108|109|110|111|112|113|114|115|116|117|118|119|120|121|122|"
     ]
    }
   ],
   "source": [
    "# iterate over the dictionary values\n",
    "\n",
    "for v in D.values():\n",
    "    print(v, end=\"|\")"
   ]
  },
  {
   "cell_type": "code",
   "execution_count": 6,
   "id": "11edb0f6",
   "metadata": {},
   "outputs": [
    {
     "name": "stdout",
     "output_type": "stream",
     "text": [
      "a 97|b 98|c 99|d 100|e 101|f 102|g 103|h 104|i 105|j 106|k 107|l 108|m 109|n 110|o 111|p 112|q 113|r 114|s 115|t 116|u 117|v 118|w 119|x 120|y 121|z 122|"
     ]
    }
   ],
   "source": [
    "# iterate over the dictionary keys/values\n",
    "\n",
    "for k,v in D.items():\n",
    "    print(k, v, end=\"|\")"
   ]
  },
  {
   "cell_type": "code",
   "execution_count": 7,
   "id": "e4beab88",
   "metadata": {},
   "outputs": [
    {
     "name": "stdout",
     "output_type": "stream",
     "text": [
      "True\n",
      "122\n",
      "False\n"
     ]
    }
   ],
   "source": [
    "# remove a dictionary key/value pair\n",
    "\n",
    "print(\"z\" in D)\n",
    "print(D.pop(\"z\"))\n",
    "print(\"z\" in D)"
   ]
  },
  {
   "cell_type": "code",
   "execution_count": 8,
   "id": "f5b52fbd",
   "metadata": {},
   "outputs": [
    {
     "name": "stdout",
     "output_type": "stream",
     "text": [
      "{}\n"
     ]
    }
   ],
   "source": [
    "# remove all dictionary key/value pairs\n",
    "\n",
    "D.clear()\n",
    "print(D)"
   ]
  },
  {
   "cell_type": "code",
   "execution_count": 9,
   "id": "8f3cf296",
   "metadata": {},
   "outputs": [],
   "source": [
    "# Write a function, mergeDictionary, that takes as input two dictionaries D1 and D2 and merges D2 into D1.\n",
    "# if a key in D2 is in D1, then the value in D1 should be the sum of the values in D1 and D2; \n",
    "# if a key in D2 is not in D1, then the value in D1 should be the value in D2.\n",
    "\n",
    "D1 = {'a': 10, 'b': 20, 'c':30}\n",
    "D2 = {'a': 1, 'c':3, 'd':4, 'e':5}\n"
   ]
  },
  {
   "cell_type": "code",
   "execution_count": 12,
   "id": "b6849044",
   "metadata": {},
   "outputs": [
    {
     "name": "stdout",
     "output_type": "stream",
     "text": [
      "{'a': 10, 'b': 20, 'c': 30} {'a': 1, 'c': 3, 'd': 4, 'e': 5}\n",
      "{'a': 11, 'b': 20, 'c': 33, 'd': 4, 'e': 5}\n"
     ]
    }
   ],
   "source": [
    "def mergeDictionary(D1,D2):\n",
    "    for key, value in D2.items():\n",
    "        if key in D1:\n",
    "            D1[key] = value + D1[key]\n",
    "        else:\n",
    "            D1[key] = value\n",
    "    return D1\n",
    "    \n",
    "    #for each in bigger_dict:\n",
    "        #if each.key\n",
    "        \n",
    "\n",
    "    # write code here\n",
    "\n",
    "    \n",
    "\n",
    "    \n",
    "    \n",
    "    \n",
    "\n",
    "print(D1,D2)\n",
    "mergeDictionary(D1,D2)\n",
    "print(D1)"
   ]
  },
  {
   "cell_type": "code",
   "execution_count": null,
   "id": "c3fa9b74",
   "metadata": {},
   "outputs": [],
   "source": [
    "# Build a class roster dictionary from csv file"
   ]
  },
  {
   "cell_type": "code",
   "execution_count": null,
   "id": "039990ab",
   "metadata": {},
   "outputs": [],
   "source": [
    "roster = {}\n",
    "roster_file = open('roster.csv', 'r')\n",
    "\n",
    "for student in roster_file:\n",
    "    names = student.strip().split(',')\n",
    "    roster[names[0]] = names[1]\n",
    "\n",
    "roster_file.close()\n",
    "\n",
    "print(roster)"
   ]
  },
  {
   "cell_type": "code",
   "execution_count": null,
   "id": "a6791025",
   "metadata": {},
   "outputs": [],
   "source": [
    "roster['John']"
   ]
  },
  {
   "cell_type": "code",
   "execution_count": null,
   "id": "9e6b4279",
   "metadata": {},
   "outputs": [],
   "source": [
    "# Let us implement our own dictionary using a list of linked lists and a hash function"
   ]
  },
  {
   "cell_type": "code",
   "execution_count": null,
   "id": "1198a28f",
   "metadata": {},
   "outputs": [],
   "source": [
    "class Node:\n",
    "    def __init__(self, key, value):\n",
    "        self.key = key\n",
    "        self.value = value\n",
    "        self.next = None\n",
    "\n",
    "class LinkedList:\n",
    "    def __init__(self, head = None):\n",
    "        self.head = head\n",
    "        if self.head == None:\n",
    "            self.count = 0\n",
    "        else:\n",
    "            self.count = 1\n",
    "\n",
    "    def __str__(self):\n",
    "        result = \"\"\n",
    "        if self.head == None:\n",
    "            return result\n",
    "        cur = self.head;\n",
    "        while cur.next != None:\n",
    "            result = result + cur.key + \":\" + cur.value + \" --> \"\n",
    "            cur = cur.next\n",
    "        result = result + cur.key + \":\" + cur.value\n",
    "        return result\n",
    "\n",
    "    # insert new node at head of the list    \n",
    "    def insertLL(self, key, value):\n",
    "        new = Node(key, value)\n",
    "        new.next = self.head\n",
    "        self.head = new\n",
    "        self.count += 1\n",
    "\n",
    "    # find key in list (return value if found; else return None)\n",
    "    def findLL(self, key):\n",
    "        cur = self.head\n",
    "\n",
    "        while cur != None:\n",
    "            if cur.key == key:\n",
    "                return cur.value\n",
    "            else:\n",
    "                cur = cur.next\n",
    "        return None\n"
   ]
  },
  {
   "cell_type": "code",
   "execution_count": null,
   "id": "f03811a3",
   "metadata": {},
   "outputs": [],
   "source": [
    "class Dictionary:\n",
    "    def __init__(self, size):\n",
    "        self.buckets = []\n",
    "        self.size = size\n",
    "        for i in range(self.size):\n",
    "            self.buckets.append(LinkedList())\n",
    "\n",
    "    def __str__(self):\n",
    "        result = \"\"\n",
    "        for i in range(self.size):\n",
    "            result = result + str(i) + \": \" + str(self.buckets[i]) + \"\\n\"\n",
    "        return result\n",
    "    \n",
    "    def simpleHashFunction(self,key,n):\n",
    "        assert type(key) == str\n",
    "        hash_code = 0\n",
    "        p = 1\n",
    "        for char in key:\n",
    "            hash_code += p*ord(char)\n",
    "            p += 1\n",
    "        return hash_code % n\n",
    "    \n",
    "    def insert(self, key, value):\n",
    "        bucket = self.simpleHashFunction(key, self.size)\n",
    "        self.buckets[bucket].insertLL(key,value)\n",
    "        \n",
    "    def find(self, key):\n",
    "        bucket = self.simpleHashFunction(key, self.size)\n",
    "        return self.buckets[bucket].findLL(key)\n"
   ]
  },
  {
   "cell_type": "code",
   "execution_count": null,
   "id": "05b69ba7",
   "metadata": {},
   "outputs": [],
   "source": [
    "roster_file = open('roster.csv', 'r')\n",
    "\n",
    "class_size = 58\n",
    "load_factor = 0.75\n",
    "num_buckets = int(class_size/load_factor)\n",
    "\n",
    "roster2 = Dictionary(num_buckets)\n",
    "\n",
    "for student in roster_file:\n",
    "    names = student.strip().split(',')\n",
    "    roster2.insert(names[0], names[1])\n",
    "\n",
    "roster_file.close()\n",
    "\n",
    "print(roster2)"
   ]
  },
  {
   "cell_type": "code",
   "execution_count": null,
   "id": "98edb664",
   "metadata": {},
   "outputs": [],
   "source": [
    "roster2.find('John')"
   ]
  },
  {
   "cell_type": "code",
   "execution_count": null,
   "id": "c5c7fe5c",
   "metadata": {},
   "outputs": [],
   "source": []
  }
 ],
 "metadata": {
  "interpreter": {
   "hash": "8da2674ad6258058d13ee0086267efa2a38eabfca86f71d724f1bc6a8ee69fc3"
  },
  "kernelspec": {
   "display_name": "Python 3.9.12 ('base')",
   "language": "python",
   "name": "python3"
  },
  "language_info": {
   "codemirror_mode": {
    "name": "ipython",
    "version": 3
   },
   "file_extension": ".py",
   "mimetype": "text/x-python",
   "name": "python",
   "nbconvert_exporter": "python",
   "pygments_lexer": "ipython3",
   "version": "3.9.12"
  }
 },
 "nbformat": 4,
 "nbformat_minor": 5
}
