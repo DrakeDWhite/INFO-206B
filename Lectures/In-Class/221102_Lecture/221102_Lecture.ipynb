{
 "cells": [
  {
   "cell_type": "markdown",
   "metadata": {},
   "source": [
    "# Graphs\n",
    "## Terminology\n",
    "### Vertices (nodes) and edges (links)\n",
    "Vertices - each individual point in the graph\n",
    "Edges - the lines connecting the nodes \n",
    "\n",
    "Directed vs undirected graphs\n",
    "\n",
    "Weighted vs unweighted graphs\n"
   ]
  }
 ],
 "metadata": {
  "language_info": {
   "name": "python"
  },
  "orig_nbformat": 4
 },
 "nbformat": 4,
 "nbformat_minor": 2
}
