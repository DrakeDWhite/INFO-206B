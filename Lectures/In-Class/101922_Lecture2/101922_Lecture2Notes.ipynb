{
 "cells": [
  {
   "cell_type": "markdown",
   "metadata": {},
   "source": [
    "# Binary Search\n",
    "## What is Binary Search?\n",
    "It's a faster way to search for a target in a sorted list of elements\n",
    "\n",
    "We all have used this at some point in our lives without realizing it\n",
    "\n",
    "Utilizes splitting the search space in two every round \n",
    "\n",
    "## Time complexity analysis\n",
    "Binary search operates in O(logn) time complexity\n",
    "- 1 element = 2<sup>0</sup> + 1 = 0 + 1 = 1 operation\n",
    "- 2 elements = 2<sup>1</sup> + 1 = 1 + 1 = 2 operations\n",
    "- 4 elements = 2<sup>2</sup> + 1 = 2 + 1 = 3 operatons\n",
    "\n",
    "Mathematical proof based on the intuition - How many times can you divide N by 2 until you have 1?\n",
    "\n",
    "How significant is this reality?\n"
   ]
  },
  {
   "cell_type": "code",
   "execution_count": null,
   "metadata": {},
   "outputs": [],
   "source": []
  }
 ],
 "metadata": {
  "interpreter": {
   "hash": "8da2674ad6258058d13ee0086267efa2a38eabfca86f71d724f1bc6a8ee69fc3"
  },
  "kernelspec": {
   "display_name": "Python 3.9.12 ('base')",
   "language": "python",
   "name": "python3"
  },
  "language_info": {
   "codemirror_mode": {
    "name": "ipython",
    "version": 3
   },
   "file_extension": ".py",
   "mimetype": "text/x-python",
   "name": "python",
   "nbconvert_exporter": "python",
   "pygments_lexer": "ipython3",
   "version": "3.9.12"
  },
  "orig_nbformat": 4
 },
 "nbformat": 4,
 "nbformat_minor": 2
}
